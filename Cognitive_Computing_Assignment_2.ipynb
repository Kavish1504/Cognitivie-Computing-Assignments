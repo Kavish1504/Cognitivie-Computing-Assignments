{
  "cells": [
    {
      "cell_type": "markdown",
      "metadata": {
        "id": "view-in-github",
        "colab_type": "text"
      },
      "source": [
        "<a href=\"https://colab.research.google.com/github/Kavish1504/Cognitivie-Computing-Assignments/blob/main/Cognitive_Computing_Assignment_2.ipynb\" target=\"_parent\"><img src=\"https://colab.research.google.com/assets/colab-badge.svg\" alt=\"Open In Colab\"/></a>"
      ]
    },
    {
      "cell_type": "markdown",
      "source": [
        "**Assignment-2 Cognitive Computing**\n",
        "\n",
        "  **Name-Kavish Gupta**\n",
        "\n",
        "   **Roll Number-102317012**\n",
        "\n"
      ],
      "metadata": {
        "id": "Ipr-BOCUNVF5"
      },
      "id": "Ipr-BOCUNVF5"
    },
    {
      "cell_type": "markdown",
      "source": [
        "1.**Create a List L that is defined as= [10, 20, 30, 40, 50, 60, 70, 80].**\n",
        "*  **WAP to add 200 and 300 to L.**\n",
        "*  **WAP to remove 10 and 30 from L** .\n",
        "*  **WAP to sort L in ascending order.**\n",
        "*  **WAP to sort L in descending order.**\n",
        "\n",
        "\n",
        "\n",
        "\n",
        "\n"
      ],
      "metadata": {
        "id": "4huDt8bdIUPW"
      },
      "id": "4huDt8bdIUPW"
    },
    {
      "cell_type": "code",
      "execution_count": null,
      "id": "fc2755cc-87b5-4275-bbf0-e860b8fba5bd",
      "metadata": {
        "id": "fc2755cc-87b5-4275-bbf0-e860b8fba5bd",
        "outputId": "194b7d00-2a16-44b1-fa91-473b51562ee9"
      },
      "outputs": [
        {
          "name": "stdout",
          "output_type": "stream",
          "text": [
            "[10, 20, 40, 50, 60, 70, 80, 200, 300]\n",
            "[300, 200, 80, 70, 60, 50, 40, 20, 10]\n"
          ]
        }
      ],
      "source": [
        "l=[10,20,30,40,50,60,70,80]\n",
        "l.append(200) #append to insert the given element at the end of the list\n",
        "l.append(300)\n",
        "l.remove(30)\n",
        "l.sort()\n",
        "print(l)\n",
        "l.sort(reverse=True) #sorts the list in decreasing order\n",
        "print(l)"
      ]
    },
    {
      "cell_type": "markdown",
      "source": [
        "**2.Create a tuple of marks scored as scores = (45, 89.5, 76, 45.4, 89, 92, 58, 45) and\n",
        "perform the following operations using tuple functions:**\n",
        "*   **Identify the highest score and its index in the tuple.**\n",
        "*   **Find the lowest score and count how many times it appears.**\n",
        "*   **Reverse the tuple and return it as a list.**\n",
        "*   **Check if a specific score ‘76’ (input by the user) is present in the tuple and\n",
        "print its first occurrence index, or a message saying it’s not present.**\n",
        "\n",
        "\n",
        "\n",
        "\n",
        "\n",
        "\n"
      ],
      "metadata": {
        "id": "6nYR2VCyJxWv"
      },
      "id": "6nYR2VCyJxWv"
    },
    {
      "cell_type": "code",
      "execution_count": null,
      "id": "4f1c39c8-4e7f-4265-8207-f14503872370",
      "metadata": {
        "id": "4f1c39c8-4e7f-4265-8207-f14503872370",
        "outputId": "6d65f36f-79b4-4082-f83d-53610032d76f"
      },
      "outputs": [
        {
          "name": "stdout",
          "output_type": "stream",
          "text": [
            "92 5\n",
            "45 2\n",
            "[45, 58, 92, 89, 45.4, 76, 89.5, 45]\n"
          ]
        },
        {
          "name": "stdin",
          "output_type": "stream",
          "text": [
            "Enter the number: 76\n"
          ]
        },
        {
          "name": "stdout",
          "output_type": "stream",
          "text": [
            "Element found at index 2 \n"
          ]
        }
      ],
      "source": [
        "t=(45,89.5,76,45.4,89,92,58,45)\n",
        "ans=max(t)\n",
        "index=t.index(ans) #Gives the index of the ans variable in the tuple\n",
        "mini=min(t)\n",
        "counts=t.count(mini) #counts how many times the value of mini occurs in the tuple\n",
        "print(ans,index)\n",
        "print(mini,counts)\n",
        "reversed_tuple=reversed(t) #reverses the tuple\n",
        "print(list(reversed_tuple))\n",
        "n=int(input(\"Enter the number:\"))\n",
        "flag=False\n",
        "for i in t:\n",
        "    if(n in t):\n",
        "        index=t.index(n)\n",
        "        print(f\"Element found at index {index} \")\n",
        "        flag=True\n",
        "        break\n",
        "if(flag==False):\n",
        "    print(\"Element not found\")\n"
      ]
    },
    {
      "cell_type": "markdown",
      "source": [
        " **3. WAP to create a list of 100 random numbers between 100 and 900. Count and print\n",
        "the:**\n",
        "\n",
        "*   **All odd numbers**\n",
        "*   **All even numbers**\n",
        "*   **All prime numbers**\n",
        "\n",
        "\n",
        "\n",
        "\n"
      ],
      "metadata": {
        "id": "Y6QRchqxKtRx"
      },
      "id": "Y6QRchqxKtRx"
    },
    {
      "cell_type": "code",
      "execution_count": null,
      "id": "17c8c6ba-884d-4cc6-a853-8cdd39f16ebc",
      "metadata": {
        "id": "17c8c6ba-884d-4cc6-a853-8cdd39f16ebc",
        "outputId": "5af7acc9-a7c2-46be-fa22-80a069b1f3e8"
      },
      "outputs": [
        {
          "name": "stdout",
          "output_type": "stream",
          "text": [
            "[145, 311, 604, 310, 171, 241, 356, 438, 564, 705, 208, 262, 510, 216, 731, 414, 444, 427, 353, 176, 368, 510, 583, 718, 582, 299, 143, 416, 885, 425, 652, 177, 277, 266, 540, 466, 656, 393, 737, 833, 439, 528, 339, 182, 326, 607, 859, 659, 124, 498, 897, 766, 682, 284, 145, 677, 477, 499, 420, 370, 310, 345, 244, 468, 730, 389, 790, 396, 389, 491, 837, 544, 508, 728, 358, 210, 687, 101, 799, 879, 694, 715, 372, 449, 165, 893, 283, 592, 306, 665, 397, 407, 247, 325, 111, 747, 153, 502, 215, 498]\n",
            "Number of odd numbers in list are 51 and even numbers are 49\n",
            "Number of prime numbers in list are 18\n"
          ]
        }
      ],
      "source": [
        "import random\n",
        "l=[]\n",
        "for i in range(1,101):\n",
        "    l.append(random.randint(100,900)) #random library to choose a random number in range 100-900\n",
        "print(l)\n",
        "countodd=0\n",
        "counteven=0\n",
        "for i in l:\n",
        "    if(i%2==0):\n",
        "        counteven=counteven+1\n",
        "    else:\n",
        "        countodd=countodd+1\n",
        "print(f\"Number of odd numbers in list are {countodd} and even numbers are {counteven}\")\n",
        "def isprime(num): #checks if the number is prime\n",
        "    flag=True\n",
        "    for i in range(2,int(num**0.5)): #works till the square root of the number\n",
        "        if(num%i==0):\n",
        "            flag=False;\n",
        "    return flag\n",
        "countprime=0\n",
        "for i in l:\n",
        "    if(isprime(i)):\n",
        "        countprime=countprime+1\n",
        "print(f\"Number of prime numbers in list are {countprime}\")\n"
      ]
    },
    {
      "cell_type": "markdown",
      "source": [
        "**4. Consider the following two sets, A and B, representing scores of two teams in multiple\n",
        "matches. A = {34, 56, 78, 90} and B = {78, 45, 90, 23}\n",
        "WAP to perform the following operations using set functions:**\n",
        "\n",
        "\n",
        "*   **Find the unique scores achieved by both teams (union of sets).**\n",
        "*   **Identify the scores that are common to both teams (intersection of sets).**\n",
        "*   **Find the scores that are exclusive to each team (symmetric difference).**\n",
        "*   **Check if the scores of team A are a subset of team B, and if team B's scores are a superset of team A.**\n",
        "*   **Remove a specific score X (input by the user) from set A if it exists. If** **not, print a message saying it is not present.**\n",
        "\n",
        "\n",
        "\n",
        "\n",
        "\n",
        "\n"
      ],
      "metadata": {
        "id": "pT0p7n_ULVa9"
      },
      "id": "pT0p7n_ULVa9"
    },
    {
      "cell_type": "code",
      "execution_count": null,
      "id": "81f15fc8-2b8d-4a74-b997-93dbfad34102",
      "metadata": {
        "id": "81f15fc8-2b8d-4a74-b997-93dbfad34102",
        "outputId": "8a31fc76-d433-4d6f-c27b-0ec6b4957383"
      },
      "outputs": [
        {
          "name": "stdout",
          "output_type": "stream",
          "text": [
            "{34, 45, 78, 23, 56, 90}\n",
            "{90, 78}\n",
            "{34, 45, 23, 56}\n",
            "False\n",
            "False\n"
          ]
        },
        {
          "name": "stdin",
          "output_type": "stream",
          "text": [
            "Enter a score to be removed: 67\n"
          ]
        },
        {
          "name": "stdout",
          "output_type": "stream",
          "text": [
            "Element not present\n"
          ]
        }
      ],
      "source": [
        "A={34,56,78,90}\n",
        "B={78,45,90,23}\n",
        "AUB=A.union(B) #finds union of A and B and stores in A\n",
        "print(AUB)\n",
        "inter=A.intersection(B) #finds intersection of A and B and stores in A\n",
        "sd=A.symmetric_difference(B) #finds symmetric difference of A and B and stores in A\n",
        "print(inter)\n",
        "print(sd)\n",
        "subset1=A.issubset(B) #Checks if A is a subset of B\n",
        "print(subset1)\n",
        "superset1=B.issuperset(A)  #Checks if B is a superset of A\n",
        "print(superset1)\n",
        "score=int(input(\"Enter a score to be removed:\"))\n",
        "flag=False\n",
        "for i in A:\n",
        "    if(score in A):\n",
        "        A.remove(score) #removes a score from the set A\n",
        "        print(\"Score removed\")\n",
        "        print(A)\n",
        "        flag=True\n",
        "        break\n",
        "if(flag==False):\n",
        "    print(\"Element not present\")"
      ]
    },
    {
      "cell_type": "markdown",
      "source": [
        "**5. Write a program to rename a key city to a location in the following dicƟonary.**\n",
        "![Screenshot 2025-01-17 222740.png](data:image/png;base64,iVBORw0KGgoAAAANSUhEUgAAAjAAAAD/CAYAAADv0OwnAAAAAXNSR0IArs4c6QAAAARnQU1BAACxjwv8YQUAAAAJcEhZcwAADsMAAA7DAcdvqGQAAI8wSURBVHhe7Z0FgBVHurbf7j42zszg7q4huEuAIEmIu2zWfbO+d/eu33v/u3JXkt3sRjaejYe4hziECAnBCe4M43Ksu//3q3MahgkQYAPJbL4Hak5LyVfV1V1vV1dXWz6BoiiKoihKM8LO/iqKoiiKojQbVMAoiqIoitLsUAGjKIqiKEqzQwWMoiiKoijNDhUwiqIoiqI0O1TAKIqiKIrS7DjgNWo/+8/ybchW25I1T3bQJ3+4aFkWPC5bcGHTk2eF4Fo2HOOFYU1MmSCyxZJAsofhZKP4gZXdJumYuOgyAbieiaNxTJmlYF1RFEVRlE87B/TAZOSKJxKDYoXL6TTgJZFM1GP3jm0o27MTlVUVqHPpi9sr92zCPXffiw27KkTmGHwjWLJqhGSW9q9nllN0bmaNq433ZlYyW4y0Mh4O8KEoiqIoyqecAx8h+TYsP4RMT0oaabcaCx5agPMvuATTZ56KcWPHYs6smbj677cj7UVx1y1344ff+R5uueF2OL5rdIZnORQzjNYID4ohy+Y2WfdMvBlCdEyLfx3qHVu8ciWz14Jn7PBND4/4kzgURVEURVECDlAGIihENMhjH9+rxw3X/hXf+e4PsWbTdkw75VR87gtfxNAhQ5CobaA/C9NmzMS800/HqbOnAal6uK6LhOtT3FB4eGm46RTXPSS5zee656Xgcl86bdEvvXCbH0/CT3sM43Kfy2AuUtneH0/CJ1NIMbyiKIqiKErAgZ8SyPaawIpj3aqVOGve2YiWdsLfbrkZ/Xp2RchPQ/pX6lMOcpw0Xn/lGdz52EJMPfMCRLctx1OL3sPssy/A+BEnobZsG/7v979HUYee+OpXv4i63dvw0EP3Y9XazRg2dBRmz56B/PwIHrr+Try1dhXmX3ER3lz8Ora8vwUzzzgbY4f2w67tW3HPI8/gM5//DPKjMspGURRFURSlSQ+MQUbTUsC89fKTqIsDp8w9B316dkHZ1vVYuextLF2xCqve34y45+H991fgvnvvxMr1W5CXn4MF99+Dex54xPS2LF+8ELfd/QBq0w5qtq3DZy6/HL+79lbUVpThN7/6Mb7/n79AvR/Ce0texT8XPIBv/ehnuOfO23H/XTfgi1/+GjaXVaC2oR7r1q6A52fGyyiKoiiKoghNBIyMUpE3kCzUVu6mcABK2nUwPTM3/u1qzJ8zA/NPPx0XXv5FVDR4sC0g7Ke428Hg4cPRuV1LvLnkDcTr6/D6wmdh5xRh5sxTsPCB27Fy5Wpc8eVv46qrvoGZ08biyedewKbtZYBXjwZacdrZ52HBg/dh2uSTUF5ehuUbt6Frr5747e9+jUhExswoiqIoiqJkaCJgsm8gIYaikrYIWWmsW7cGKcvGORddhuuuvw6dW+bBkVG3jYbkymvV+cWtMHnCaOzdtgGrVqzGc4vfxYDBQzGwRzus37QFlmPh2j//CRedfyGef+lV5BcUIl5TzdA+Qo6DQQMHIBqNoXOXLvA8D3X1cUkCtp0Z7KsoiqIoihLQRMBkX6S2ohg5dioKYzaefewBPP74U2jXsQuGjhiFWDQCW+Z0IcHcLYKLEObMngkrXom777oba3ZWY/qs2cgP+SgsaQXP9fCD734LTz63EI8+vRAPLbgPA3p1MW8bCfKikeXYcChmbK7I69gy54wZl6MSRlEURVGURhwoYGSCOaoS17fRsVsffOd730I0VYUffOPLmEkxMu+Mc7Fh+x6EwmHYtpXtrxGNwTC2g0FDBqJnp7YUPI/DLmiFaadMhe3FMW3uPJQUt8Affvu/+PF//gw/+snPcd11NyIzLjergrJCJvPDP1zYunkLfvub3yCZknljFEVRFEVRMjg/I9llYvGfbXpARNv0HzYC4yZMQFFhkREWpaWtMOvUOfjs5z6L3l3boWznLpRXNmDC2PHo37M7wpF8pDwb8UQCUyaOw7yZ0xCyQyhp3QGjx45DitvLyspQUFiI2TNnoGvnTlizfj0Qy8OU6dPQqkUxtm3airqGOGZNm4QohdKbb72NiePHI8xlRVEURVEU4cDXqBsh41AE2d3YizzWSVPmhKW3RuZxgQPXchB2MmNV0jJ7b9afIGEbLwe/wTaHcaRDESQZOiKxpRLwuS7xyPgXMwaGfuVXURRFURRF+FABI4iACLztXxaXHZsiAiMrSBpHJ3GI/8bhRYjI8r593CwvSXs24+B2h+vyaEr2CUFYFTCKoiiKogQcUsAcGnr3XYoM6Xmx+Fem/E8zJnnVOStojgaJznL549KYEB2FimoVRVEURVEOwzFKhUzvjPzNqJ+j1ECNkDjkhWw7G5t8E0lRFEVRFOVwHEMPjCCvWwvZxzxm7V9RHo1NUAWjKIqiKMrhOUYBoyiKoiiK8vGho00URVEURWl2qIBRFEVRFKXZoQJGURRFUZRmhwoYRVEURVGaHSpgFEVRFEVpdqiAURRFURSl2aECRlEURVGUZocKGEVRFEVRmh0qYBRFURRFaXaogFEURVEUpdmhAkZRFEVRlGbHh34LST+UpCiKoijKiSOjPILPRR+KAwSM73t02RXYJphH5+sHohVFURRFOU6IzPDlH3WI56e57iNsR2BZh35Q9AEB47ouGhoSuPGGfyCZTCORSsKztB9GURRFUZTjBGWG7dgIhWwMGNAHM2acgsjRCRifAiaN8vJKzD/jbFRV1cJjrOIURVEURVGODxbFCv/aPs499yz88Iffp4AJcdsRP0LKdN+IgJkz+zTU1cXhM7CvY30VRVEURTmuyEMkD2fMn4tf/PynCNkUNebh0sE5QJmY50/mF0il0yJvKGgksDp16tSpU6dO3fF0NjUH4LqiQri+r3vl4BzQA+PJGBiuSg/MzJmzkUikuFW6dSRiRVEURVGU44Av/SnyxCeN006fg1/98ucIUXocTn8cZnRM9ldRFEVRFOUThg5uURRFURSl2aECRlEURVGUZscnTsCYATzBwGHPMxsaDdM5KjKDkmUqvrT5dRmnZ9nwGJ95rCa/3APP5bJM4pcZxCwhmhJsN5bwjyXP68zKv04mbjGIf700D0rGAs/jkse9vtjHDTqjoKIoiqIYPkIBI1F9mPtwRFJ4fghummJCGm+XssMIhaOPSxDhYouA8ZJI2zaSbkYqiFixJGIKFxEMIS6LmJFXxn04mcBNEB8iIiwKC5vO+ggFhVghhCyKF4oYMwjbD1PAcF1sk7T8g9ulKIqiKJ82jlwJnCBEREQjDs676GJc9pnPYd68eUZgHBsiMNjo+xQbVtj8zps9Bz26daZGkF4ZB3mFxRgydCi9fpgYycZFa2SmQMt2uXysdn0Q0xNERF6lEYIdy8Oc2VNxxWWXIBrNgUf7ZEbkjC9FURRF+XRzTALGPGqhE6SHIFiW152CfeLkswSC/Db2J7+N12VZwoo/y6coSCfx4MOPYdGb76Jj+/aUDRmhEITLuP3Lh0Ki9ylafN+hLHBg22F0aNcW+TlRLttIM2yXHr0xd+48FBUWGhtMOCMTKBiyccuv70nebPTq1Rvnn38uPD9JL9nHTtl8/CsEAkYen6Vp58hxk9GyJIaHF9yPeDwFl6Z5RjQpiqIoinJMAiYSiaBz587o2rUr2rRps68BD7Z36dIFRUVFRhA4joO2bduiZcuWKCkpRUFBgQkjAkKWW7RogdLSUnTq1Mmsi4YQEVMXT6I+mWZ4bnDTJn5B0pK4unXrasIdjswMfg4cCoK27TrQtm7IiUW5hULJ8tGG2ypq6nDXPfegpqZmvxhidmzbQseOHY0rpLiBZaNL5+7o3KkL1wuYx46MrxNyc3P3CZ9jRUKLgJFf33JMD0xhSWtsXL8c1ZV7uZ0SjkdKv0mlKIqiKBmcn5Hssul5kCayoSGO2267nbrByzSr/C+PcWR8SDi3EFdcfgm6dumMdu3ao0OHDlixchUbWAtzZ5+K/n37o2v3vpg4eSp2b1qFdLgAn7nkAvTt2R1DRo5F/15dMWL8dGx47230O2ki5s08BYP690Pbrr0weuwYrF36CoULm3MnjFalxejVpQPeemMJXJ8WWGGMHDkKc2fOQE5eAaZOnoJEXTV27txuBucGkiXAoxiworm46PyzMGTwQLRq3wVdO7XD6uXvYMfucgw7eQwGDDwJ0yaOxVtLFiOVTFHahBHJa4HLLr2UdvU3PTbdOnXA+2tWYvT4SehEO9sUxVBYVIh2FES7du1CbW1tNkUh6C2yYVshxGK5CFPYRcJhxCJhhENW9vFVY0tpudEm0ltEx3ADWCbJii3YuqMs80iJ/h1PQsnEgiaIoiiKovybIA2bOA99+vbG1KlT2IZyy2EavA/vgaEwMNHKWzr8zW9RihbFpXj00ccocm7F3XffZXor0mxcFyxYgJv/cSNuvPEfWLFqHfr37oGkZyEWjeLuO29HOBbDs08/gW07y9AiL5cNc5giKY4br78Wf7vhZlTVJjGgd28jRiQ9W96+ofGSrmQiHIlh8pRpuP++e/HggoeZ3kOYMmkCRYE8ZPpg74QMhB0wZChFRAR///tfcMttN2Pj5k3cwxz5Fl5Y+CLjesB8fZvKgeVG8cG0R40Zj1R9Da695mrcesutuO/+BUi5KTz0yIN4edES7NmxC7feeivuuPOf2L59+74eqAMRoeFg/vyzcdkVV+LyK67AZZddiksuvgjRaCTrZz+ZQ0SByDz26tENndu0xvatO4zQkbemHNobojv0oVQURVGUTw9H9QhJ2uk9u3fj1VcX44ILLsaXv/xlDB8+jI2sSxETwbhxE/CFL3wBn/vClejbv3emp4BhqqqqUFdXh0QiyfB7TFxmfAz3b9uxAfXxaiMCyvdWoyC/5T7FJdvEybr8k8dN+fn5mDtvHj7zmc9gxowZJn7HOXg2JFyrVq2wZctWpFNpY3+gcyz5SJTptdmPbHPTLjp37Iita1fC9lLcZiNlRZCWQcCBfOCPYzsZu7KuKWJ3Op2myHoQN9100z53x+13oCHekPX1QXJzczBs2Enm0Vsly02MFoGoKIqiKMp+jlLAeEZ4LHz+JVxz9V+xcOFCzJk7i8KiAB3ad8bkSVNx73334IYb/oaVK95lCDbubHylMZcxL9LQu55LDZFVEUZQOPIms9lXUlqM8oqyzC6PYUQY0I/skzgaGhrMWJV77r6baVyPa6+9Ftf85RqkUvLNpoOTSCSQl5cZpyJjbIpLiiVCE28wyFgEgsQvYkHsramtQWmbtsHDIFh+OvOaNYNJGFuED5fN4F6GMWGbwk0iQubOnYtLL710nzv/gvORl5uX9fRBKisrce8996CsbA/69O6dsTUQToqiKIqiGD50DIxpPPlfxsCw6UZrCpXTTp2Ldm3boHPn9ohEbCxevIgNfyFGDR+GnJwQThoxAt169EDFji14f0c5Th7UD++8/RZOGjMe7yx5FX0Hj8T2dSsRLemAof16URA43DcBkbCPxc8/BCtWhAmTp6B3r17o0KYlG/wcMwZm++4ylFCATJ00HkUlrdC/bx+0LC3C5i1b4UmPiPnXCDuE2oYEZk2dSH8lOHncJORGQ9iwdhV2l1VizLiJ6NO3P7p1bodY2KYQK8a2XeXYXV6FKVMmo3OXrujSqQP69uiKDetWI21FkEgDsyaNRnHLEvQdMBAN9Q2mh0kEUgYpQXnsRUcRtmLlSrzx1ht468038Mbri7GU5ZBMUnA17f3J/vW5XR599e7dB+m63di8bacZEyP7JFbj8YBMKoqiKEpzJ2jcjnwMzKG/Rj1rNhLxzNeoTZzcblMkhMJR9OvbF6GQw4Y4gfXr30ddfR13O2jfri3a0cnjopqaWkbuYg/FQLcunbBu7Vr07dUXa9esRIcePbFt514MGTEFQ3u3xJtLFqE+4dLPOnipBCKxGPpTHGR6PzI9MVu2bsPOXbtMr0bnTh1R2rI1kokENm3aaAbRyivRTeRLRkqwBNq3bU272mHLth2IRsKora5CNe3rS/ESZVoy060UVG1tHVatXsPis9CisADdu3czkezcsR07d+6g3AsxnzbaULx06twR9fGEyZc8KtpPpjilVINHVPuL2Mga/kqZNrJV/NL5/JN2bCQRw/wzL0Dd1kXmcV3aknlgIiZ/lDcSWlEURVH+fWDbKm3j0XyN+ogEjEQg3uTxiQgIIdgmj4bkUUqwHhAkKvvEj2C54h9I22JiDBMmn4p2JRYeuP9eeK4Fx46Yht/zU/vCN41XlmWbiCnjl/FHo1HEKEQCf7JfnOe5FFLV+2wMwkoeGq8Hv0KQFyHYHqwLQRqN9zUOf0wwSplp17dcpGweAzsPU6bOQaeiOB566GFQJ8HNjsFRAaMoiqL823EMAiajLI6QUEgeZRyIiJoggaBBF6RRDxr2YNk8HqF5ns+/fgKJ+krU1sr8K/uFUIb98QW/wRiaYJvrZvzK+sCBA3HJJZfg4osvPsDNn3+mmZsmiDcIH4gXYX+a+0VJ8BsQ+BWC7cFv433HjESVjU+mvXG8FN567SWEogW48KIrEMvJhcNkHLHL+FIURVGUTzdH3APzUeDJt3ysNGVTisKB2skPI8RlY4KZLTcz1gPWkcw4KzbtFxtmcG22pyfYJoOOZYBu0KvyUeXjuCBlAxkbQ+eHKPMi1KEyMzEQpvAz88QwX57NBVUxiqIoyr8Tx7sH5l9Fxnh4tEX0isNlmefFfG05K0a4J+uOhIxfyZwIFBEqgUjZn+EDhc0nG+YnazZzxLJJMx8h2GbcDbeJKDvislEURVGUf29OaMsubzLJoxDbD7NBZuNMYSGz1cpU+UZ0SDeDfI35iJEGXcQLg5nGX8JKb4sIm8x4m8Zjdj7RmHyLjRHmiqKF9spHBeQVbtnn2j5d1ouiKIqifMo5oQJG2l4r+29/S9x4+dNOtiyMmNu3tn/BrCiKoiiKctwFjIxHaTpotvHA2eNJkKYQ2CFOemMa7zsSDhZXsO1Y4mocXjjccuP1pjTeL7+Ny/Zw4RRFURSlOXNCemBEMATi4UQ2qo0b9oDAjqMliCMIK+syviZYPlqaPtJqvC7xBe5ICfzK779il6IoiqI0B46bgKFMMP+EWHEYY08ZgEixh5FTBqFV21x68CFznwAyCVyK6zTFy7yJ45mXraUBl0aYfkw7nDROhopY5nMESTr5qrM4Wc/E47gObBEpVhy+4zIZGz2HdkDXfiVo07MUw8Z2Q5iRyDgc8w2DrI0fRuZtJgtDTu6Bdj1z0WVAOwwZ2Zmhma5jwbVqAFdsCdOl6GrhW0naIfl0aRfjMHYl4IaSyMuLYvykkzB66iD07FsEK804JB3Hx6gxgzBm5hAMG9kFdkje0pKysTPDZFgWEp8lZSWOheTkhHHypJ5o0TKMgSN7omf/Vtwsk/PJW10S65HlUVEURVGaC8dPwDBmkScyaDdSGsbEU/sD+XUYO2MIiltnGl55r8bywvybecPG8iPUFDIhXYRNrgxkpT/pmfDZEJuBv4xUliVmeQxE882AVzpPwsg+L0Jx4pn4JC6Jp++oTug5qBjt+rTCoNFtqZkaKCYy6Wb+HQkUAYx/+Lhe6NA3hq5D26HfsFJuTSKnKBcXXj4bOfk2Uk4c02ePwcyZoyh6KMYYxkOEtrOwZbI65kO2JRNx7Nm7BXntLQw+qQSWSwEjk/MxXxWVOxHPqcaEad1hOXW0U14xDw6V/IrFomREpLgURBbGzuqNgmJgyPje6NA9yr0iXOQIyKvwR5ZDRVEURWkuHDcBI22mmbKEQiUd95BqiCJdS8HR4KC6MgGPDbUbSVGXsKENpWHn7oEfKTPiRQJbTpLKpwZerAxuuIpbImzgI0hHq5CO1bPRTsFieCskvRp0zEmSy25uHcDG3+GGaKqAUXFb3IJXTxFRxzgSITbtDkWF/JOUwnAcEUUfAhWImeo/biPNeHzG5yWkF4fxhmy06VwCn3YNGtsKPfu3wWuvLoadjlJjUNSEaUNeDRCtQdhleql8uOkwVq3Yil3baS/oL9u94qZCWLe6DBvWMe8mWYo8OjfksiwS9OEjZUUZZy2cKPNppVi2LpJ1NhI1lrGvQaKkSDKPkEQ5HcfDrCiKoigfB0f0McdjfQU55Flm9tg6L4k928tQtbMe5bv3Yte2ciS8EEZOHYwp03ti5OiRmDBtANp1ycHqVRvg2HGcd8lcTJp5EkZM7IfuvUrx/tr30aVXW8w6tz9GTRmB7j1aYfT4vhg+egDeXf46wrEUzrlgMkZPGIIxk/rT7Hrs2LKFtkdRXrsHFRurULYtgW071qKu0kKKtskjpqFDx+IzV1yGVStXmG8qHSqvPoWCiKiKyjLs3LaXcTVg19aNqKkMU3xZOGlcR+zcvQ0zZ07F3bfcj5q98iAsguK2uTj/0gk4aXQPjJowFHW1e7Fn906KO+klsdG6axu0os5a/e4epByb2x3I165j3DiwbwneemUNvHQu2vRoiUu/eAZWvrUMtekICtuk8bUvX4pVS99HXcJBWfkWVG71sLuynPneRkETZRnILMkyMZ4sZzOiKIqiKJ84pJESd+QfczyOt+b7X5ZOJ32sXbkdViKC95dvRLJBHjFZ8KIptO4cxQP3vYxr/rzAfMG6qCQPlp+HRx56AX/68x3449V3o6CkFD36dGIYBy3aFeKBx55Cj7598OzzTyMUcRDNzcXU6dOQrtmDG/5+F66/+TGMmjYSRR2k8Xaxc/NelG+rR92eFLZu3A1XxpM4TJ/GVdY0YPv2nYjH42ZemkMjPTY+tmzYiardKVTsaMAOxiuPhHyZRC+axuz50/H8gy8bIeG7hUg4SUw9bSQ2rV6O6669D3c/uBBTzxgHp7CGBZOkE7lIkSjLRjoKLtcTPDINjFdm4hVRY2PTjo2o9XaiZ79WSNP2PoN7YdvObaiurKVIDGPD2u1I1jvYuG4bqvYmITMdy1w4GZivYFFRFEVR/g04bgJGhIvLhj1FF/FCcDwHrpNmQxqG7UbhspGOhxJYt2o99m6oMz0Z1Q1pRKw8NPhRtO6Wixlzh2Pu3AnIyYsgFq5HKuRgx+py1G4LseHehe1rYnD9anhODtr1boV8ip/TTz8Fp0yYhLxQAVoUFZvHPqF0zHzl2XMaEPKKKVRCpnGXsSXrN67Adddfi5qamswjl0PgSx4oLmQCPnEyoNj2W1AhSq9VnKIohD1l1ejeuzW3J6lJ8hDLK0bLHvno0K015p8+B2OHjUBRrAgF0VyGkQ8FuIi4FFLpHLihBsTSPl1mbI/FcgrTbpGgKdEf8VwsfWUdhozpjXCsAsOH9sbSxe/Qr4yvicNJ5bG8kwgznOXlwnZEvMkgYhsJGdzspSl0PO5jHs1YnEOrWkVRFEX5pHNcBYy0kZ7MtivjOPhPxqrIBx0zfTMUAwhRzLChttjgU9z4NhtYNrqdexZj7ukTsHr5Grz63ApUl3kUDw2MKw075bFhZ3i7DpYrs/kmKS5cpNMprFi7ES+88BwWvbQI1/3pTmzbKI+EJJMOw/oUMCnGL+mzcZcxJ74Dx3ZQWlJqbD4ctkXhxbhkMK3EadnyQUoZZEwhJD0dqSgefuAZtO/TBwPG9oIXrUIyGYeXdPDmO8vw6isvY9GLr+Fvf7gTtRVRpK0cpCnIZKCyx+WkI/07UkYhJKVXx4+whCg9HAoruxYxprv6zc1o0bIDBg1pjdyIiw1rdzFMDm2RcqOoclxT1lygTWlTyjLGJ6+wALmxCA+GDG42uaHLLCmKoihKc+S4CZiDkXlt2odruXDY+EfiMSAdYwNdx4acAsaTwawuG9soG2IHISuCIQMHoF3rtvQfMa8OO0aOSDT0G6pDyMtHiPph5ZtbMGb0OLRr1xJ5eRH07NGb8YXF54HIxyTlkY1PweDZGDViIq666jsM1+6wPTAHw6etlEWwPQqpZBSpqhDuvO9ljJs9Ca262/BStdi0bAftGoMWLfJQUJSLLp27w/UsRAtD6Ni7JYrahZFTbKNjr1LYLRJI59WgS98StG1PYZJnm3E/rdrEqE3q0VCdxMqV2zFnzlisWbECqaT0QJnSaILkQ2QixRFtu/iiz+DyK64wn1XQuWEURVGUfwdOqICxzTwvgOd45rXhuh1xbN8cZ1tLIcB9a1ftQbzex9rlW/H6y8tw8rBhbHD34PlnH0PVbh81ZS62bdgDN+Fg5bsVSKcsrFtRBS/u4s0XVuLF597EwIGDMXLUEKTdOriujC1pgryKzYZdmnHHsbFp83q89dabqKqq+pAxMAdBel4YUzrhYe17m2HV52Lnmgo88+iLGNBvGCIUWc899Dzee/d9nHTSMAwZ0hfxRDXDJNGyJAcTxg5BQW4EyXoX40YNR2nrHMQKQL990KdDG2xZ04Bhgyagc+euFH1MKxzFeytWITecg3cWbYYnA4HlsdwHyIgUeUzkIIqVy983vUxRCkPteFEURVH+HbB4R77vltyTV465Wl5eiZmzZiMRlzlEeCd/jG8hNUXaYBkx4tke06JY8Bi3n0LUTqPOyUXSSqPQdZG2otxVDS+Vz7QjFBYNyHPjqAi34e9Gip0OqA0nkOuF4bkJOOF62Om2SDJeyhyqsjjClrziLJPKie377Te9QHTUT3BlWK7tM6wHm3mUfB5dXiWGKFwnDi9dg1y/NUUDkLar4KejFA+0PdJAa2JMs452yYR23IZcloFFe+uk0BFyKUTkLSdbHv1EGG2KYZO0Ooy0n6bgY6ShELyQjTPOn4A8vx4P3rwEKXlV2mb+mU6AHExx8uFMGfwbzW+NaTPnoThcjTvu/Cd3hHiMMzPg7B/kqyiKoigfI6ZzQdqmNE47fQ5+9cufI8Tm+GN6C+mDBM2ljEORqdkc2iUDatMUARE25HlpecQRNjPWyqOhiG2bWXPlLZuknYuY18CGvpSBUhQvdkYQsNGHm0fBU4+Qn0CYjbqDPIocioJsgTTGvCrOOC028FI4YRrlMJ1jE2kyniZNAUIJYRVRFMk4njS35sCWr2DLHDW0Pcy8hf0c5iMPlhOhH5lkLm16aCIUN9IT5NhhiOUy0DYk9thRxkMRZOcz3jD6nNQVX/vOWWiTE8LjDyyhsAnTZknrQLtlLbMl85bVjOljkajdhnsXPMQUKdwYP1WTHATjS1EURVGaIye0B0Y5CngcpBfFpaxJypihPB/RqId0ZT0FWyH3U8DY8azng0/EJ4c2+HZT48djejwVRVGUTxSf9B4Y5SiQY2bJY540wjyAXp2DeLk8XmrBXdGMnyNABu6KCypBI72qKIqiKM0WFTCfVHyKFk/Gzshr6B4i/A170tMiAiRJQSK9Y3L4DvYWUoamylXWj3qgsqIoiqJ8Ajl+rZm0s+ZmPzvmIuvkzRjjZJlbPrL+gMbpSS9DsNwkhYw3HxZFgbjsBrqsfbJI+yQO8x0iz6GTde440fjyGrgtz/noXC6lKUJkBl9x8vaR6aYRn4qiKIryqeI43o6z0d3nRCyY94/oMl+PlgGv5tXgjxB560YG1WYadcmaDJY9EJEBNABhL2UG15rvBBmhIIN7ZXZckTEhxpDigmXmeHEoZGwKiBOO3cCsiF0y4Z2YI+UltoqT3hgVL4qiKMqnk+MmYGQKf/OVaDa0HhtcT2acZXKeUwffqaUokDdupEH+aESM+VK0kzCDXmWCOZiPGEpDf2Ajbz4HwDRTdhhxO4KE7dCFkLSjcH15xVkKJU17bfPpg2S4HvFIPVIHnW/lOCJm7zOdC/I4yKwHO8yKoiiKonwqOX4Chv/kyYvIhXAsjLadi4CIhXad8xDLTxhxIWM7REx8FMjb1K275SCUF0HLdjnIL6SIMaOaD0R6ggQRKPIYxnGrEHJrEPbSZkZfEVW2n0Y0HUEoZXG/RS0k3xs68oGziqIoiqIcX46bgJEOAhEwMmldSdsorvzybBS2iuLSz52Frt1LMo9m5BHOvyhg5DVhGZwaiYZx6ZfmoXWnYpx90XQMHNoGtvTENIle+i3kcYzMw9IyN405IzrirPE9MKBdLiKpelgUMl06tcJpY7vi7Mk9MG9cL5zUvS33yaBZRVEURVE+CRw/AWPGjdhmYrZUvBapZA0SDdV0SdRWVZuPIbqOj6RVD9dLIGE1cDkFJ50L+ZBhyk5TnKTh+nEkUMnfBriuw1+b++Jw7XImUc+EZBuQdBsQT9Yjkd6Lhng94gkZbxOnYJFfmcDNgnz0UR5jyQwrMbiYNWmCmZa/osHDJaeOw5BOpdwXRue2JWjXxsfW3btQtrcadXWV8E70IyRFURRFUQ6J8zOSXWbjLf+AhoY4brvtdrhpeTPn2Cayk0dDoo7kTR7f85ETycO6tduRQ8GwZd0OpsH9eVHMPncYJk0YhoFjOyFllaNq8x4KFBc9T26N+bNnYPiI/hgythu6d+6GFSs3IbeFg5mnj8W4iUPQuVtHbNy4iXamxEpEc2PY+P4GOF4+tm6i8Kipg2NR4FhhTJ02HYP69cLa9espkHyEGGbt2i1YTn+rKFIGlaQRi8bwzvY69OpQiHRdNZ5+cxt27mlAVW0SqVCeyZOiKIqiKB81ojPEeejTtzemTp0Cm6uH0x/HrwdmHxYS9Q4eXbAEqfocLHx6MarKPVh2AXw7jOXLduORB97Ayy+swtw5Z6O0ZQuUto9h9ukT8MwLD+PJp59Cq1ZFeOPNl2DFEjjzotGoqFqP2+9+GDWpSsw/fyRsvwLheBTPPrQYdXstvPLCu9ixtdp8TkBehxbB0r59e7SjC1uZN6OSThTVdhTxUBi5dg1iLVtie3UtbJtixfUwpEc/XHbuRJx2Sme0y/MQTmRyI3HpZHCKoiiK8vFyHB8hMWq285aMQ6GiCtnyLaAwbFcG7+aYxz418QpUVu1Em3bFyMuL0HM9wtEUcvPaIpm2sH1XGXbsrkaK4sFhmLyiErTtmot0oh59ew5EIp5Ap47tEYvFmEYYMa8QoXQewn4uRUqY8e2f5O2OO+7ATTfdBD+VkjeT4XKf5fgUNHU4ZURfVKUjeGvtThlUg6Wr3sc/H38BLy5ZwrgtnDN3MnJk7pUsMhmcjL1RIaMoiqIoHw/HsQdGohYBkeJiPcVEgqIiZd48EuRV5/7DuuPiK+agoMhCKCyPrxLcnsKuPTsRLfDxmS/MxxVfOANbtqzHji1xeH4hhYe8zFSEPDuMdI2HJx55A0kvF4lQCo7nIOTJXDAiLFyThqgoWROxkaJ4CSSHCKuoV4NZo3pgQMeWuPehF1Dt5lPchFFRb+GdahfLdlp45c2taNEiHzmxuERiwrquxKsoiqIoysfFcRQwwSy4Yf5I74okJmIibOZUSTiV6NGzF3au34O3VryF+ngDYk4LShgL3bp2RcWWKjzy0Ct48P6FePCeV5BKUwrVViK+Nx8JuwHvrnkVy1etwNbtexB3PbgyKJhO3nqSdEXEZF6J9rgthNmnn4VLLroQIccxVkRQi5kje2NC9zZ45tmXEY1YKC6gmaE0cnJCaBtNo3e0DmP698am7dWIJ5gBZifl5FNUfR1nnDqDOcmIMUVRFEVRTizHT8DIuBsz9kZ6YWTWWBEOlpl/RZ4uySd53lj0Flq16IBLL7kM/Xr3w44tZUjTpD17dqBrp1KcfvZYnH7uIHz5qjMwaHQnJOJ7sOCfT2NI35Nx+eVX4pJLL0PXbt1gW5QrFCse4zSvSNPJoN6mmfO8TG+M7M/JyUX3vkMQDxVhzuw5uPSsWTh31mgU2hQtg3vi/Pln4ZzT5yGe8vDgU68giRymIW8zAfX1cQzs1x/h0PErPkVRFEVRDo3Fhj/zXIR4vscG2kd5eSVmzppNwSBznxzbW0gHwzITy8lk/yl4YXm92YPtSRo+XM/L9I7QhunzxiG3MI1773gJtt8OI8d3xskju+Cvv78XUb8Alpcws+6CYshzZdp/+eihA4d2NrbUfO8ILlK2jJGxEXIbmBfmUyaxk94Zpi+yKuLX8a9MvBdCWh5BOYzTPCVKwmUAD7nii2VDm0MxnDF3DopzgNvuvIPJRsSjoiiKoijHSlYf+FQIp50+B7/65c8Rks6Iw+iPE9qFICJB/tmUDaF0GOF0hGIkj8v5yPUK4aTz4HkFKN+TRrduXTBjzlBMm90Oo0d3xruLVyCKPMCVN4ty4TCc4+XI0F2E/BBjlLEvByLKTOZ9kZl1bT8JXz4PIJKFYsf2whRsMdTbuah0WtG1RrVdirpQCepRwH1RJOw8JJxcuLZDceMjFInikgvORVFBDI8+/gRLVnqWFEVRFEU50ZzQHhiJy8THFE1vDH9T8iaQC4Q8WQaSIhYcF+06A6XFbeBTaFTu2oaq7TVwvSK4IkKceooWGd8i+itQbYzOOnBMSiZjMhYms116XtKWQ+EDRNOUUjQkyfSNTfRnHOOVX8e1kQiLfwnvcruImChyZVtSPrIoj5MkIx9V2SiKoijKp5RPeg9MRlJkHh15VhqeLSNeZOCti2Qo89ZQyE8i4rrYuyGFNW9tx9q3N2PPdnnoFKM/CiorTkEhmZQHQJl5duWTkfL34GTG3UhPjJARMx7T8414ykiqQOpk/Mor1kkpORJiWhYco1NsJJFIxWkxzFiYTChFURRFUU40J1jAZMmoBuOMTGi8nt0mQ3DNr0VZkVmgyyyLpJB/GQ+NXBP2b+bfTCSZbcEOE9mhHf9m3f6/BrNffvZtURRFURTlBPLxCBhFURRFUZR/ARUwiqIoiqI0O46bgMmMSZHBr/LXzowZ8WUKfvmqs5uZU0X8cZvZDhnPIqNT5J9l3hTKbM+8uSQTvBi/8haRlYnf92RBHuMwJhlQK+NbZGCK8SD+GafEIcsm7ow349+EkWVJgfYEKcmr0macjMQnL1nLV7ElHIsq6984WTbrh8HYIXmWvNL2tJNZt6QMJDUZASRfyBb7QnDNIGT6pJ+UJeXB8J5D+2kdw9jm8wXyWriUkcSVWVcURVGUTxvHTcB4bIwtP42Q5yMVsWDnsBFnwxvK5TanIftWjzTjgogQNuhWiu27fHMobRp3cRmxIfPzGhkDXwb7RhvgxOpMMFeUkSVfWpRRMylYjEPCQ0SCTOYiCoouEFQZ5FdEhMTP7Y38id0+7bSidfRFWZFbC8sMhZYJ+cROiT/zdtZBi88IHe4Tx/2WzCvDqF3mK8I8y9tNHtMT8SWDhm07BYdO3spKOJQzTN+haZ6UBf1F3RCjocSin2jaZhw20g5Lhtvlu1K+jsNRFEVRPoUcNwEDXz4hIB9V9NGuYwxX/eAcFHf08aXvXIbuvTuYt4EirmV+5e0eefsoTC0RSbORN+txujT323QUD2zQLYqASVOG44orz8JV370IRSUUGvJmkiTHlNJWhAKAYkVEkPn2UpJxJRieookiQr6VZPpi5NMGfszESUVEtZCZCE9EiW2FkV9YhC/97HyU9PLxuW+chYFDOnJPPfeLCBJ/4mRZXBNML4qICjrpNbHq0LXERe/OFrp3rEW+X41IsoCixUaBVYN+bVqgTxsHxdhB+0JosPIQceoxpKWNfh3yUBorZzklKHjymb8Q2uXnY3jrEvQqSEFmv3FZxoqiKIryaeP4CRhpwKU3goIhma6DE4qjIVENO0Qp0FBnpv+XCe3SVhRJ+nPp/FQMtlfMIEVcj8Bng+37UcaQT61QALgFWPjcO7jlHw/DckTQxOkoSaS3g8IlZcXg2jJjLgWGKxPdtYDn5nJ/jpmYzqWA8RE3Yscyk9NVcll6Y2RSuzT3N8DzUnQUOeEUUn4DtUoayaTM1CuiiL7la5IUPdKj433g8Q3DmfhEJkkPUgrDhnTChadNwPBBAzHn1JNx1qxRFCQOcqMuLjt3GqaNHINTJo3HxWeMQxFD5NCO+bNHYfbE8Rg/4mRcecE0dCyIIJq2MGxQe1x4zliMGNIVl144HEP7hBD2RVgpiqIoyqeL4yhg5BFOnL8+Guo87NqRRLo6ivItDYjXUQ74PhIUB4VdQxg3rx8mzuuPgaM6IOlUIxlOoOvgUoyd3QPj5nRHx14xCpZaxpSAaAYvHaaWkBl5xeXQOYjELAyd0BYTGWb89B4oKBb5wMa9gCJiYi8UdExg/NzuGDWlC6IxoE2bYoyZ0IsiqZ5ixkV+oY3J04YjN58iJZVCzXoffnkuKmh3fZ0IEgoez6XwimDQoGHo06cX5BXvD5LpgfEodMSCwUO7Y8mil7HgvqV44IGF6NKlGLFwPYaf1Am11Ztx551P4MY7n0FhYRQjurbFyPZhtC/xcMPdz+C2O5/G3t2bMHZwb7SwE5g2tgsWLHgQNz/0BhYsfBlzx/ZFiSWP3BRFURTl08VxEzDyEMW3faQtG/EKD//46wPw6yO44/p7UbGnAV4IyG9bjEuuOI2iJIm62lrEch2GScEO11G0FKO+oRZxCoLTLpmK9p1thOw4BUSDeUQknwSQR0C2l4Tjh1DcogSlxcWoraxESbsOOOsz4xCNJhGmxpkyrzfOP2cW/HQN+gwbhClT+iKZSGHk3MloVZqDNDVH595FFBs9kEzaaEhW4+ZrFqB+r4d/3vgUtmzczfyEKUhsaiUbM2bOwNRJE823lw6GGYxLf7YXwXtvr8PIkSMxaXA3zBs7GkuXr2GeEujdsS02rNmAUCSFU8cPQ26LCNp2jKFX+0Ls3LgDKTeECcP6oFuHrujZNg8t2+bCSlegbE8turXpgoljx6EoL4cujwVtmXE24jIDnRVFURTl35vjJmDYfPNvCJ5tI0K1EvJy2MKycfXD5gOM8vZMJOQgP1KLhopqLHtjFRa99BZCbgm8+iI8/dRrWLV0I956exl21W1D63alVAYR2L68lRPOpOHLOBCm4YWxdc9mvPj0q1i3bBMWLVmJ3LYJxKI2wn4hBUotHv3ns1j8zFo8+ug7iNdVo6K8Diu3bceQYd3gOWmcNLoflrz+BtIJeXTlwrJiYi5FQQFzImNnbPPYSQb23vCP63H/3XeBCRs7miLhXStp5rvbumEn18M4aWgndOnQCtu27TIzEOeHYmidV4DzLpzBeBN4bdEq2DlMKxJFhErkvDOGoVu3lnjqhbcRDvnwoxacFDB2xCCcObsnXnn2XdTGPYRi0suVEVLyaMwsq4JRFEVR/s05jo+QPoh860ictOxhNrTlW3fhrtsfRp8BA/D5b16KOWeNhR2qQqwwgs9+4Xyce8EMzJ07AS1L881wGhEP8jqyDPuVwb+OF4OXpkCJhNF1SBt8+RuX4PT50zBh4mg45s0h6ZGgo4Cqqmjgso9t75fjxYUb4XpJLH35HfQ9uStKO6TRtmU7rF62Qfp1KIwyAukAGomCsr1lKC8vZzYywmE/sp4pUhlwbDl1OPXUCVi+fAP+747ncPeLyzB31gQUxlzUx1MYN6wfFi1egttfpHixS5CoS6E+7WHQ4H7YtXktbn78Zex2c1HjhpFMA+1KStC+pBg33vUQVm33KATz4DbIGBh52TuMtAszYNkMVFYURVGUf2NOqIAJHnNIwy9NrO2EsX65j3/c9BSuv/0ODBzeCwXFafQYWAA7VombbroBj9z7IqorHLgMI19E8kK1QLQKaQqEtBOnq+T2GoybMAFL316KW2/9J15Y+DqFDePwC00viCevG3sR2JaNkCePWAoplFLY8V4lUuEops4agO2bdqGuUuZg8WDR7wfJiALbsTFl8hQMH36yEUQHsn9dBhZbVggtilpg7+6tXPaxZctWChWKr0gM71O87SyvxfoNG9Eix0HfXiXYsG0NVu+oQEVdHtYsK5chzujfvy/WbtyOzXsasLuhAe8sfwduTQF69clBeTyOiqoIy9RHKCcPp591Djp3aq8CRlEURfm3x/kZyS6z2ZN/QENDHLfddjtcGRzC5vCj+uaPfPhZnDS4acdC+16d8bkvTUL/kzth8Khe2Lx2J1YsrkB12sKIsX0xsv8gDB8xCn4kaR7F7NlVhXlnT8Soyf1Q2DIX3Xu0R5eurbBqzWrEIkUYP7EHhg3phS69+iEU24tlL2+GiwhOGt0bS19Yh7QvA14ljyH4TgXseBskC9KYOKkbnnnwdVTuzORX3kr64ABdhuMuyw7j9Hlz0bIoH++8u8z0Bh2IC89yKJjCcFwHEQqiWeP6YEDf7hg7qBfeWbEJb7y/F7vLytCnXz+cfPJITOvfBtvX7cTz7+3B9tokWrWIYOqEkzF8QCdYyTq89OIr2Gy1QUNNJaafMhHD+5WgR4fOePDZJdhbXw+PNtm5JZg3dw5a5kewbPly2npCtamiKIqi/AtI2yvOQ5++vTF16hTY0uYeRn9QS+zvRvDY2LpcLS+vxMxZs5GIZyZs+6gEjKijICaZrwUUMYWF8txDxrUAdZUJWOlcpLkvt8BHXjSCuvoGig3uTDtINLgoaBE1KkgyJp979NM+qqoaGN5BUbEDhzsqqhtQRH+1exi3HUFBSQQ1e+KZsS1eBL4fQcqpR5L/hk/rjikj++Jvv7sfXkMpY7TNQGLTVdQYKSaWg9iZl5fLDKRRH49zU2OhIGFEIMk2lhs9W34KRbk+ItEceKkUqupSSNEmeZ0qxDQK8/PgpBtQXZNCIkQ/3Bby61FSmG9iqa6uZZo26hzxF0dhXhj5MR91tUBtUgYLp0zvUtqP4fLLLkZVxVYseOgx2HZIDFIURVGUTz4yTkTadKRx2ulz8Ktf/pxtpDS7h9YfJ/Y2nXZIL4Y4ER829UVthYO6vRbqytjYuxQnFBkhKrBkDYUURUeizkKy2kaqgbuYwfoqF/XlHmr3eqje66K6Uj5XIIN72chXWqgup79klIJFCiLExp3+ykS8iAGOGTBrORUobRnBmEk9MH3KcDz18CKkE/KWEcMwfUZAv00ETLYQJdb6ujqKl8zsvwci65KzjD8pXY9Coor27KnxsKfeonhhHsWHFULKD6GCgqYsEUI8JHnPSB/PykUZ/e+mi3M5accQpuCxGFdNg48dFRQ2MgefzGXjOcijCLrkwvNQRNGz8MWXmogqRVEURfn342Nv6aQDyDvE2zyivAIXIH4bu8bjUIJth0O8y7eFWpWWol1JR9z9j8ex5r09LIg8Sg6GDT5FcAga29TYrsNxOLuOxOaAg6cdQiKRwMIXnsa1116N6qo6bjsyuxRFURSlufKxC5gPNsiHprHfxu5g+w6F78dg+YVYt3InHr37Fexc48OWWX5ZFLYtYohhZYK8j4jD2XW4fUeKPPJKp1zs2LEZrpvkurzyfWxxKYqiKEpz4fgLGNEEh3PHlYMkaB4RJSgYEgg7QMgPsbkPtktPSIje5NtITUVAk3j2uY+bwE6xXdy/Il4Olj9xiqIoivLJ4jgLGIlenAwoFSezrDR2J6IDqHEjzF8RKdLbYcmEdTY8J57ZFhCMgTmoDvgENugmP7IgvUbhRuvHQuO8fQLzqiiKoihZjp+C2Nf+yR+KAjOuRIRCY3ecG0gzYlh6VOTL2MGvZFlaeDojZLKrjWm6Lkg4Ez6IS9yJEGBHQpCJgxl+FMhHMPflLcjnvxinoiiKohwHjmMLnGlQzcwydgqelaBkSXItTSe9HFl3GBETDNBtPFD3aJBw5s0iEz6wJ8PRxpmJi7JLfo3LbJMBuEFcjZc/qQQ2H8zWzKcI5DfIp1k1/j7p+VIURVE+XRxnASM/npm2H4jDtl02jGlYtjzmCHphDk3Q2AYDXIOG9EgbVHmb2IfMEdNgfn2Ly7RF4jxaxGYTh8RnXD1cX95Y2o/MsvtJR8oysDMo3/3wONkJeoqb1819+ZSm7zaLfCmKoiifLo5byyTNvZEYvoWSNsW48DNnoahlDi6+/Gx07tKS26XhlOSlJ4AiJ03fMkscG0zpCUhze+eebdGnfyfuT9HJdvqjQyQFmwLI8mw6J9uZw+3UOfIpAM+VnpYwG2fusC3MmDsBIyf3xYARPTHvrGlsxJMmTY+2SVoH641oiqQvOuqMs6dj8KiuGDlpMGaeOpp7XLgOY4klGE8Dc2TBtWVq/wRskx8pB5mvhWl5Mukc7fRtM29NZjnjR+a4oadsWiLYpHdK8iwbGKvsd0W4ydy/3Ooy3/KIhyVl1iWo5Je/rrwKTn9SXjLZjtgha7SUxctlirHZZ01Fp44tJHYzeaHpfWFB5hQW4KLPzUJJy1yceeGp6DeomwlpWfJ4SXxLQmZBURRFUT42jp+AMT0WHhzfQSrHRoe+Rai3qtCmWw7CsSo24DKrbQRpGUjLO/xwhI0xG1rzFWu2pemQhwFjOmLc9D5wHDbS0mPjsAGOARd/bRbadslhYy6CgPJAvi9E0SDiJkIh49gxpNm4h9iIp70c5LUKI9K2Dn4p0KI991t1dBbjlBlsJT0RDCIcDt0wy6vJnpuLFu0YV8s6xhdGabsEtUUa7fp0wHf/6xIMObmdyBe06tEel331FEQkXiuNFIWBTxvtMEWN9D5RfLhuRoRlBIH8ZMSIEV0y/gTSuyPL8ghMxE8Slp2iy/Q+2cgxAkz8pET8USSZfdyUYJp2OpfZiiLppHgMbIoair8wtzPuJP0V93BQkFfN1HmcWNYijKTHKukUo20/6YXx0LJrLpycCmOLfBAzM/A6a6+iKIqifIwcNwEjTT7bSZlcFm7CRbLWQbLOgZcMo75Gmk0us2FP8c6+tGMu2veOoGXnPAoaNtpOAl26dsCyZSvw1FMvwXcjbIxt5BfG0KNXOxSVAK26hdCpXz5ad8lFOpZAy16tEYowPgqXpF2P1p1tFJeEmEEf6Xo2u/VheLUhpOql5yNMISE9L2nkxHLQuVMX85jkcHOx+MyIyIRUg41UXRgu89JQzzxAPgsQR8otx5DRveA79RQDCUTDIebPQypUh8LSWnTpW4zi9vnMWxzhHBcdeuXApfjxsyLGillo17UUIYo0I+5YPiJTZEkev+Uwz226FjAtlzInzHir0KUHBUY0FymaECn10a53K7RkueSEHdhuiHGH0apLa7j5cfotQfuOeRQpcckOY42yrFkmFEWFxWGWd0uTWipVh0RdLo8ZhVC9h9pqii9PqkkgXA5dRoqiKIpyojhuH3OUeMKexbt/HzVuEu+88S5FRATLlr6HmooGuH4OvEgCc84cgUnTBqJFcQj9+/fD++vWsa20MGbCePQb1BV9uvfG0sWrjRLq1LU9hgwfjFYdQwiHImhX2gl50Xys27oZZ19xHoXKTuzclkA6L4krv3Qa9m7cht17Eti0aT22bdqO3ZviWL9qDUUUG3cxkuJpzNhJuOTiC7B69UpUV1fL1oMjvRpWFGvfX4mdW8uwbX0V3n9/LZKpPBS3jqEtBVMqFUJVeRVcx8GAvu3wxuINaNu3JS684BQgmoOR405CaWEetmzdiYu/NBPvLt2EVLKG8cZR2rUj5s6fgKWL3obl5SAtvU0sdkcek1Hk5LbKw6VfOB8rlr6NmmQEbbtFcPFFp+L1N5ahTXcHF14xDSWlrTBoeBcMGNQZqyn+osXAhV+aRVvaoEvn9hg5tjccN4X3d27AkLH9sHnNejg5jPfyc1C2Yzd2balCguLr3bffQboihGWr3kPlbgoeCj7RuuYDl6YqqIhRFEVRPkqkXRF35B9zPG49MPLIxWILLG2en7YQrw3BTuehocqD7+bApUjp3KMD+vcrwQ1X34x7bliMm69+DPHKNBJxBwsefBTPPfcMLcwOJvVcrF29AQ/c9yTqqkNY+ORSPHDrU3j1ySXwkxYWv7kEJ4/uIDPToWPv9kj61diwYQMLwILXYMOrjSCUyEWyRiyL0EIRay6WL1+BBQsWYMeOHRnDD4kZUYKGGg9uQ4wLEcTj0r/Dxp0iw3NjeOm1lRg7aSQ8P24etqQpPCbOmoynn3oOCx5/ErfefQeGnNwbdthCTboCoVgEp86bTLu7ItLCRgUFmOfW0z6WkcW4WXjSG2N7MezYXY9NO7dj0DDmjXb3H94TK9e8i2RdCnNmTsJLzz6H2657Fjde/RTjctCxXzu4lotYKIzFLy7GjX9/FI8+9CratOrKYxJjChZady7CORfPxeNPPIS331yGsJUHx0ryGOQwTeavzoOXitGnY0SUkaXyyE1RFEVRPmaOo4DJDBZN22ziXZsNoi0jOiBfgmbLCt9JorRTW+zdshOpCoqLZEc21q3hezkI844/MyV+AexUGCEZqGpFuS9XhsmYt39CLvd5hfCsHNMgr3xzLVq0a4eC9jaGDOiONe9sRDyVwxTZCFMsgen6vkxQF2Ec8ugnxLbYQnnlLrz8yktIp2X8SfCY5GA4LCx5vBNmuiJaXITklwLDddJs4FPYsmIHoi2L0LJNhPFFYeV7KGmTi6lTRuNLl56HS844D06KAsp2UVPro2UXH10GtkHvEb1R1M7G3opappGfTS8jXsR0cQ7LYfELb6H/qMHIa5FA/9698NYba1kWUbQoaIEdG3YhnGyFZH0Jtu6qRLvSAorEHNQghR3vl8Hxi7Hh3Vo8cO+L3J4Lyw1j4IBeqK8vpxBazpoQRUoGCKd5rFwpcReOPLrjP7HFKFFxsqwoiqIoHzPHUcCYjgk27iJFJCERNCnTHSSJ2o6LsvIKFJa2hZUbh5ezHenw7owfih6XvzLw1ZdPVjsNDJFmpIzVlley2dCG40iGK5GOxDMNfQWwfEU1Rozvg349W+Gd11fSFxtq6YOSeGSwMEWTGXNiS1xiUQix3FwMGDAAjiO9DGL1wbEoXKRnxFgv3mRwLDNoZBnjs2RgLc1cvGQdRo8eYtJJpOtRV+niicffxE1/vQc3/fkR/Pa/70EVt+3ZXochw7th7YZ1cENR9OzdGts376BQi9EuigTpeaHQkg4PKYMo49++bi/8UCkmTuoNP1GDHVuqKG5CqEum0KZdS1jRcpZlGVqVtEL5zq20M8S4E7RRHv/wNyl5DNFeD2Hm55Xnl5i3uObMnQnQn8eydbidh4xlJW87ZXtejHDJcugiUhRFUZQTxnETMAdDBIC83eKxQfSpIbas2Ywq3uVf8MUzMX1+b5x30TTk5efALnRwyuxJOGlkPxS2jWLq3LHozgZexor4CQ8736/CzNMn4tSzx+KUU8cgZLGB9yJ489X1GD68H/aWbUV1WZ1pgD+AvGLMxlweCIm0GjliAi6//DNo3bp11sORI69Hi4CJMA+RdEv4FBwrXt+C4ryWiMrM/skQ3nhxNeadO5W2jsaMM4bSDYcVTqJ6dwMG9RyDlW9vw/oVOzGw2wDEa6pZNvIGkEvNILbvVwvy5lGiHnhnyVpMmjQU7yx9C15SpImNF198B9PmnI6ZZ4/EZZ+biXS1i3Ubd4l6RH4qD66XZzpOjBhiXGEehmg6inRDLv558wL07NYLp5wyhjrvwHltFEVRFOWTynEbxHsw5LGSOGmXJUo/6eHdd1ehprIK8boGbFi3A+Vl9fAdG5GwDIjdi/fXrkdddRKVZQ2orZGxJSGsX7sJlZWVaKhLYd2qTajndrE8adXj5JHt8eozy7B3q9gtb/mIRttvv0mfiNiQHordu8uwacM6bN600YiEo8or45DHQV4qgT3bq1Etg5OTEWzfvgab1jMv1BDbN+/F+ve3wU9FUF2exIp3tyBeazEvNdi6cQc2ra1E2c4K7Nq0B9vWlyGdoIW0K9PTY2Zn2W+Xza2xevTv1waP3fsm3DoZn5LAzp3l2LBpB7x0ElvXbcJrzyxF3LV4/PJRuWsdyraydOTZm/SoMNsiuupYfju3VKOuzsG6NasQYblW7K2n2DE5UxRFUZQTiLR24o58EK/FxjHTohPP98ykZuXllZg5azYScbkj/ygFjMwNI//k8YgtTzK4FOYfBy4b6zSSkFerJbVM3wn9yrvYPm2QCetk4jbPNY+fPDOJGxv5sAfPTqOgKAdjp/ZEu/YObrvmHVj1JbAiW5D28+hvv/0ysFjiY/vO9GiAYyHEVjvwcTR59T15vbuOC/JoLJeyIMXoovCcGoqJHNqcS1sTSDExx0kxz0wnnctcOfAjtZk40oXMfoMZeyKTxbkUXZItm8dB/olhYlM4HEZBSQzzLxuOlcvewUsP1bPkWJL2Th6zEqQcET1xxFz5kraHmmg9HK8VYs56iqKO9Ccij2XINC1fJtxLsQyLkJLycSpAq+F5IfM5JEVRFEU5oZgXRKSLIY3TTp+DX/3y5whl279DISFOGJn+hMBIahEuerbMDyuNaZp72NBTXIiTmWflMYoMmLUpViQTvpkjxqdfxiMtLbd71FgtCqK46IJZKAgV4r6bX4ObkvE2CbhukSR6AEYWWBQSdPIydcjbL16OFhm4a3o1zLgVyZUNM2Ovm8Ml2p4drxOmeLG43SQUppBwZGKabP5kXhbRkJIvGe9jxptkhB78KJ2NtNeAPv3b4ZyzT8Hat7fglafXUZCkWG4ybV4L5ofShPFLOcnWNJVhhOLKcWuRTrEMjB2CxC+vZ8scNbSZy45TJ5ZyjwxqznpTFEVRlE84J7QH5qNDGncx24FLAWKH5CORFAWmV8aBzBorPSFGMcgg1OZINn9GzMinD+RDmNKDw2NhWfIWlAwq5q+UhRE9iqIoitJM+aT3wHykmLdjUnBMGx/hajF/C5ihPDg2hYwZrCs9D820cZdjJvbLIyUKM9svoE4pNE5mJs74ye5XFEVRlE8ZzVTAsHWX+WTMgA15BCSPnCKwZYRqo8dLzXpAh+gukwcZ2yL5sE3+5DGVbQb5Zvbpcx9FURTl08gxtX77Hzp9TEj6ngiY4BFKZmyHmSuGgiaTLWncZf+hu58+2YgQE/uZD1nelz9xUgDMo9nfjEWaoiiKohwjRyBgRACIt8bOp4jJuI8FY1Kcv9KYZ3onMiJGGnrZL8vcJxPWNVdMHuUxGPMQjOMx+ROXFW1mfzMd46MoiqIo/wKiRo4a0S2ZwaTSyn5MGKFywIKiKIqiKJ8SjljABD0uMh/JhAnjMXDgwH0i5mPriVEURVEU5VPJUQsY13Wxd+9eTJ48GcOHD/+QDyAqiqIoiqJ89ByBgJHeFZnKPrPmumksf+89vLxoCbp16w5bPmrkZyamUxRFURRFOREcYQ9MRsDY9G3JrK+2g2R2ltioTIWrY1AURVEURTmBHPEjpMaIXKmurkbLli1RVFSkY2AURVEURTmhHJOAEbmyceNGM/7lkksvRSmFjKIoiqIoyonimAQMfB/de/RAKpXC1VdfjcqKiuwORVEURVGU488RChh5aJRxPoOkrRiKc2Oor6mAa3lwvQbu08dIiqIoiqKcGI5AwOwXL4Hz7BAsPwnHSsOzJArf7FEURVEURTkRHPEjpGAeGHGen0ZRUQEaGhq4Qz4u2Jy/OaQoiqIoSnPjqMbAiHjJicVw0cXnYejQgVjyxhvcKt8i0g8KKoqiKIpy4jgqASMkEgksWPAArvnL1di+bZsZE6MCRlEURVGUE8kRCBgZnCufC6BUMb49pGprkUq6cO0IPDNFbzP+6rOiKIqiKM2OI+6BCT4lIGSG8vKvDOCVHY32KYqiKIqiHG+OWMAoiqIoiqJ8UlABoyiKoihKs+ODAkaGvAQu80dRFEVRFOU4khEeZkTKEUoPy5d3owO45Lo+Kioqcers2aivq4dv2fB0kIuiKIqiKMcJ6U2xqTVEksw/cz5+/rMfw3asA8bfNuUAAeN7ImA8VFVVYf78s1BZWYm055l3kBRFURRFUY4HFCNwLBvhcIj640z8+Mc/yL4ndGgF8wEBI90w6bSLLVu2mK9Ni4DxtQNGURRFUZTjRCBgLNtCfn4+2rRuzY1HIWAO9tzJzACjAkZRFEVRlOOEPEI6WqlxBAKGGy1/364gAVlvvCzI+qGWBQ2jYQQN8+kMIzT1p2E0jIbRMIL8Bsv7OfjWgAMFjKIoiqIoSjNA54FRFEVRFKXZoQJGURRFUZRmhwoYRVEURVGaHSpgFEVRFEVpdqiAURRFURSl2aECRlEURVGUZocKGEVRFEVRmh0qYBRFURRFaXaogFEURVEUpdmhAkZRFEVRlGaHChhFURRFUZodKmAURVEURWl2/FsLGPlKpflUpfzx5bva4vTblYqiKIrS3Pn37oER3ZJdBMUL4GZ/FUVRFEVpzvxbCxiL8kWcx7+eZJVqxtIOGEVRFEVp9lg+yS4fgOu6sCw2/9wtv4LnUQpwWZxtNwPt46WRTieRdmKwaG+Y67ZkxQ5l9iuKoiiK0iw5pIBJpVIoLy83YsVxHCNkRMAUFxcjFArtEzWfZFKJOjx4351ocIpxxvzTkU+Tje5yVMAoiqIoSnPmQAHje2aEiM+Gvq58F2ZMm4GdlQ2wkTKPX3JL2mLRywuREwvB9h1uS1IM2Ej7YYTgMjgDWjY8I25883xKRp3ImuNzyWyXhzppOooi+rBNrw59yj6aYgbZ2pmHP5aEcZOorq7F5m270XdAP+PXthiS+4zplmPEVCZkivFFGI7rVgqJhjLMnDYT5WiDhc88jJIc2sywlp1J22TKDO5lMr7NMJbZ6vhpY4PHeDym4YhpLBh6MfaHfMadSmDH7krYkXy0a1XKbQnui9KP2CF5kriZlsRL53K7w7zalsdl5s2j3YxUtttMx01VY/uualiRArRtU4wwg3tiGxWXlAWLmf7EUikrsUNRFEVRPr2YJrkp0qRH7QRCyQYUFrfBZz//RXzxi1/AJVd8FuGQNPIJuGkPaZdSxG1gY8yGmI2rx3Wf26WnxqXzXBeptM99IgDkj/wX4ZEywiBJneCZBp6/9Ms/VBLy2CeNFP3LY6zqsh04//R5+PZVP0CccYn0kfh9V0SVa/yK6JLoJU6Jw0+lkE4l6S9J8eFwfwGFDVt924WXFQS+iAOJgwLJZxhGjQQjSjMOWfe4T8pBxJjHdERsyG/K5dZ0HLfd/BecMnMWXlj8LsMxDMvBZSReiv5SLm1Pm3zTuykfj+mYfdwYT0v5MV3Jq8ccMa37b7sep848Fc+/9h6SRrhJ/jJl5xqBJmT+KoqiKMqnHednJLtMpPeAf6XHIV6NW268BZHW3fHHP/8eE8ePx8kjhsOrKcM1v/0lHnv+HXQfdhLyo8BN//db3Pvs6xgyoB/uu/0feGjBAnTs2BH333Mvnn7mGZSWlKBV67YUPinU19diwcNP4I7b/4nt27agVZcuyMuPIYQkynZvw4IH7sVd9z6IZe+tRKcO7XHNH36LJW+8hdqkhS1bt6N7184oLYxh6TvLcOM/bsaSxYuQV9ACxa1aI0KRUl2zG3ffdwseWPAEcqN5eJ7p16EYn7nkLMRoa9qSx0ciwigeEvV48fnncec/78bLL79iHo21bdsOobCDZx97ENffdBdalLRGxzaleP6xh3HdTbeiqLQj1r73Fm6/7UbTY7KnOo6aigp0apOL//3N1di1vQzpZBw33HAD3t+8C5269USu4+Glp+7HX264FwVtOqN9uxK88uSTuP7Gm5HXqiXWrViFO//xd2zZFUdZjYuKis3o07UV/nz1tfDtMDp26mh6gUR6aQ+MoiiKohyBgClPOigv34NFL7+I7bvLMXxoP7y75EVce8NdiBWVIt1QiV/85BfoOWw85k0fjWv/9P/w0OPPYtGby7H6vbfx6ksv4OHHHsf4KdNQlAt866tfxS13PIiS4hZ48pF78MTLS3H6nFnYvWU9Lr3kUjzwyJOoqa3H+o2bMeKkoXhiwX3YtWsv4l4IqVQakyeMwpKXnsYXvvZduL6HHVs20Zab0G/YSLQviuIb3/g6bqI4qqhqwPNPPU5RtBteTjtceenZRsC4FDDy2MpL1OCnP/oR/uv316Bs716sW7MSd952GxpSHkaNHY0n77sN193yIMaMm4wBfTrhifvvxHU334nh42ahbu82vLTwcVTXA0krB0X5eRjQoxj/8ZNf492Vm5nn57B+7TI8TKG2pawO008Zjxceugl/uukJDBs3FSf1bYNnHnoQf7vxdgweOw715Xvx8rMPoyoeQr2fj8J8HxG3Br/89W+xY085Tj/jNIRsEV0qYBRFURRFOOgjpMbEayrx+AP34KEH7sOrr78Fz47hws98EYO7t8dD//gTfv+nP6Gw5yh84ytXMrIEqAyQpJ+LP/dlPLjgQXzx81eiuqICTz73Et58/VW89PyzbJDPwQ9+8ANcfP6ZWL50GZYuWUqxdBve31KNb/74f/DwI4/g3nvuwrBhQ/HHa65GLgVC5y5d8QBFRM9unXH9NX9CB67/9Kc/x49//B9mkPFd9z2MVe+9QPHwBiZMOIdpL8Bfr/1fxGIxM7wm8yczvsVxG7CG4uqhRx7HwDHTcN+Ch7HggQfQu2c33Hrbndiyc29mHIwfhk8nj3IcP8n8eRRANs658CKcd97Z8Nw0rvrWVfjFL/6D8adhOS6sFqX4x5234t77bkHf7sV4ceHT2EgRYzO8Zd5+ciigElyXR1/SD+TgnPPPxwUXnw7Xq8dV3/wm/uvXv8bkqbPw/e//AN/+9rfMG1SKoiiKouznoC2jaeo9jw29h46du+OhZxfiuRdfxv/+4keQwbd5JaW44uJzEd+xAcvfWY4zL78SpS3yTDjPYyNtRzD85OGI5foYNqKXGbeyq7IcGzevpR8X99z/EOadeTFuvOUutMyxULNnAzasW4ZYYQGmzjoF0VjUCI8Qo3JCMjYmjXQyH7YD1MdXo2x3Odav340LLrkMl196ORwrjERDGrs2bUQ65WLU+PGI5uahR68+KG5RgJBvIWVJ75INRwbMIIXde9ajwUphwIjxiOXlorg4igG9u6G2Oo6dZRUISU4ZxjMjYWz4FC6ulYOkZJKG+UxHxtdAenSkU0T2uyF079ULpa1ao7h1G3TvUgivvha1CcbgOiw5GVcj41ui8F2fgidk4vQZX8SvQ5x7EfKQy5/c3Bb43Oc/g8GDB2Ze/aYVLIjsr6IoiqJ8ujnMrb28ySN9Dj7CsVxEojnIjYbMYNb6uirc+cCjiLbqitLiFnjw5uuwt7qWPkNw7BDb4BTKdmxlg+7jzbeWMp4o2rVtj/yCIqQpjC664Cw888xjeOrZF/HYk09g+swZKCrJR6qhHKvffc+00eZhlvSaSONtJ+C5CbgpC6FILmIFUXTq0h4P3H8fnl34Ap54/DH8769/yEa/2IictWtXm0G627btQUVVpREjmSzJgGFRG1G0aFFq5oXZvnoVxQTQkKjH5s1bUJjfAi1LWlBcRGh/HDW1VaLlULa3ivlg5GIZ47Yp0uQ33tDA8JQ59CMPeSp2bEQynkZ5eTVWvb8DOQUtUVwYoRCLMA81qKveC3njqWxvpXlTSd6YkjxaVoRCxUIDy9ZjfKl0mmX0ArZs2ca4pUDoSWxXFEVRFKXJGBh5A0faSt7yuw01uOmm21FWE8eiRa/hwQcewMMLFmDs2FG465Zrce+ji3HFN36IIQM64tVH70F9tBQTRw3F4/ffi01bd2LR4rfw8gvPYsGjT1CcdMMPfvht9OnWiY3yc3jt9Texcf0GLHrlFTy/6B3MnDkdLUuL8MQjj+L5p5/D4tcX4cGHHsGQwUNQyu0LHrobm7fuwuuLN2LwoIGUCbV49oVXsOzdZVi5fDnuu/8hDB44GL17dMFDjzyBd957j36X4L577kT53r0Ih1vhssvPRSxCASIigK6ktATL31iK1154Ca8uWox77r0V7y5bg7POuQSnnTYd8ZoKPPrUs1jy9lIsemkhli19C5V1aUyZNRdDe3XCnt3b8fiTz2D56vXYtW0HBvVuh3/e8wgqKsrw6ovP4t6778bK9ZU47dyLMXfmaKQpzh55/Ekspc2vv/oK3nmL8dXUMr45GNy3O8p3bsHTT7+Ad5a/jx3bt1HMVeKrX/021m/aiTnzTkXYtplv09VjBI+iKIqifJppImDEWfBkDpRUAxvbFShu1dKMB5HeGDtkY+RJQylkHkSXbkPw9W99CcMG98T7a9did2UcE0YMxnNPPIaNu6vxvR/9BNs2r0FvCo6f/OfP0bt7R+TnxDBpylS2v2ls37IZIYfrU6dgQP8+6Ny5I0aPGoNEQxxV1dXo3L0nJk+bgvz8PPTv1x81VVWI5RZg1oyZmDJtEjp07IAdO3aisrIGgwYOwsQJY9G6VRuMHT8GVVV7zOvK8up3KhlH65ZdMGfONDhhx4wnkTlVpEdkyvQZKCjIw47de1DQIh+f+/xXccVnLqfQsdGxQwfkFxehPlGLsWPGYcLYcaiqrcdE2turcxt06NQZsWgINTUJjDjpZHRqn4/b76bAmzAX48YNwN7yKpx7wZX4whcvQQHja9uhM0qLWqCupg4jxk7ExHFjEW+ow5hJU9C9cwe05/68sI065r/f8JGYPnY4tm7fhVlzZqNPvz4IUbSY/hcRL9nxPIqiKIryaeXAiew86he6dMiHnaw2j35kojjHliniZECrj7Cf5G8aVjqX+7kcaqAcyTf+wulqfP6iS/D0W5vw6NNPon+XPKScMDw/h6Flvpig/U0yIRkcm2MeUVmO9PwwTpnczrXMeoJCSiZxC3F7yHVh0wYRVr4XzUx+57gMa8Pz5NMGNjNiMsNWPsW4aBdyuYGxuzKwOA9WmOEdGULr0slIlDDSnoxuoVFmS2YiOstjXFyWqe48xzPz0YitMrGciLiE7SAPSZnNxgzM9bgG2rB62fOYe+5nMX76F3HtNd+gf8lpBL6ToP0SNgzbjdO2MJKhMELpFMvVQ9yJICQ5oRlOugKpUC7qnVwUpGuZF4flwHChEMLMiyMHJ/sauKIoiqJ8mjlwUIW0i2zkQ1ywwwVwQlE4Mu0+G98w7/ojFBCWQwERoiCI0U80wv1FiNAPZYoREKb3xmaLLRPeOfmIUgTRK1dj9Muw5rtEBZlf+nHEH4WBY0coUiiWwrb5zXFs5DJcxA7RFgoL+rctSU/Modk2G3b6C4UYlttsxiPbZeyK2OeY7SEzZiZEAxzHoo0ySiWTH5EpERFIMmaHNkfsmMlfmLtDoQhtY97tHMQoJmIUHE6YoiNE8SJPcWirY4tNTEdEUThN0RelpGlAyq9h/iNGLIUogCK+5FnKkfmiLXY0zDgthPhrMV+Sz7Dkm3FbsVKmn4NC5tsO55kyyqF4oYykvZKwiBdFURRFUT4gYIIhFqZXgyv7nWxrvC5O/IgUkBDcTzEwfdapuPzSi1GYK68vyz42vfvCBnEaFcDfg8V5cMc//B+EP5gzXrLLjf19MB3JduP1A10jv/Jv3/b9jn8arVO0eR6KS9vg8suuwPQpozK9QRlvB8QhGzLLsphdNmUd7Be7pLxkPbO835/xmXWKoiiK8unmkB9zPBokBnkjx/JkrhMbacv0xyDyb9/WunSZgc/yK99OSsFhzuUVbI9LFCAyaPhAmagoiqIoyr/IRyJgAsyrzxKbCBdGKz0I/96ks7/MZ/YVZ8oY/s32mGhniaIoiqIcFz4yhSG6xXwkUR53iHgxDfmnhaxSYSFIvvfl3ei5T1M5KIqiKMqJ4SPtgdlPEOW/exfEwfJpVAs3afeLoiiKohwvjpOAURRFURRFOX7o8FJFURRFUZodKmAURVEURWl2qIBRFEVRFKXZoQJGURRFUZRmhwoYRVEURVGaHSpgFEVRFEVpdqiAURRFURSl2aECRlEURVGUZocKGEVRFEVRmh0HzMQri+IsnQZfURRFUZSPmcPpkQMEjOd5KmAURVEURfnYEB1i2/aHapGD9sCIkKmsrDQRiGvkRVEURVEU5bgg+iMajSE3N9d8E/mIe2CCRdd18dhjj+H6668H7BB9UcSYPVzM/sp642VB1g+1LGgYDSNomE9nGKGpPw2jYTSMhhEsrlCQULjk4Q9/+D+UlhbDdqxjEzD3338/fv/738NyQvAtx2xXFEVRFEX5qLE9/qEGKSwsxK233oIWxUUIhQ7/GOmQAmbBggX43e9+R4VkAxQxiqIoiqIox4NAwBQUFBgBIz0wFuXHMQuY3/72t7CdMHxbe2AURVEURTk+BAImPz8ft912qxEw8nzpMPpF54FRFEVRFKX5oQJGURRFUZRmhwoYRVEURVGaHSpgFEVRFEVpdqiAURRFURSl2aECRlEURVGUZocKGEVRFEVRmh0qYBRFURRFaXaogFEURVEUpdnx0QgYmcCXLvtzwHoGWcm67Oph3ZFwJOEO2H8oT+QAf1nXlEb7fPPHLGQ3ZJcbO6HxciPMpuy+/XEFTrabP+IrQ7DaaNOBcEdTG44FE1YsMlYdOq5g+z7XaKXR4gHs284/jdJoHLTRwtGTjTdYzCw0cgeuHDX7o+HffQkcIxKF+RO47PaPAonLRJkp32D9AwTbG7umZLfv2x0sHMw1Zt92/qELsvkB9vlr5I4A4zX7xwQJEjDbDu7kJ/PnI6RR/EEC5t8Hth8BTcKYYNl87Vs+RjL2SFzmv6xkFozLLpj/mX/yP5OuLJxgTNpN3D6yG0xeArd/c7BNFj+470AnP/vWlWbLR9YDY3u2qTNp34Pv+bA8y3wW2yxLpfITgJcGXA82/cm0wQ79yK9Zzzr5IuWRVCrx96HhZD3NNFyX9qRpi0s7ZL7iAzmSuJgN2CnanHIZpcSTZpwuPMbNP/Tvw3Ul30xL8stlbjDpNo1LdlncHEl7jFfioeOv4Pu2+ZSD6zUwDtpq4vTg0G5bbG9qF/dlbGB4Web+Rl+HOCpsE84DU2f6YrtsbRIXVxuXlTgaScfCYViDf4hPTzBvjk+/btzkO8FlWswoHZNvZpiexB05po7RbtY22psy6y7X0ywIj3b44sQfyy7tJo+pbCREivYxaqaRNOmwMmV2HiGSrjlWdFLv02be7BRyeNgsnjtNi/mYkfy5aZaBONZT1qHMcTyQIzt/uIHhUwyf8i0pRLMuzmLdtXhuWX7E+POl3DOVj9s8hJI81uJPjjCPgedlvqcm5bDPBXHRHdKGg5CGxMVa4yd5vbGZv2zdl+h4vngsX0bP894z5Ss1jKay3DPhPwokfp9lIvUrU99lvvO0qc9pXlbFlpBcb+QawZXD1juxtZGTcnAZR4jXTNtPIcmyy1xD5RqTie9IYVRSUoiyTjg8tTLl1WDsk2Mm1w1fyo/lJud80orTX+ZaLnk5oWTz39iJFbJD8m7OH5aHbSW5OcEyYUmbayLLm3UiwnNTzvuUyVfS5FEujXKcgvyGzDXXB6snr78Sv9Kc+cgEDE9l8xfy5WpWmFjIRoQXaJuNfZrrrp0HJ+zAtilkQCcteLZyyqnf2B0JTcMcPJzYJA2ZBccOIRpyzMW1KUcSl+TPXGBlORxGzGE+05IH03Ryr8+8ZcrAD4QLyeSuCSYRC6FQGOFoFFGbF5WsXXKyRaIxRMI5CDuZ7bbFC0omkPFzIBmjXIaz6N/YcDBvR4DJo1x8+TcSicAJMtyEwJJ9rqm3Q4QTxL8j+ZF8RphP+Vw6Lyj8m/FwDMiFzZXGkPGIzRIfS81c9MzRkTLkb8g+9jTko6Y2j1MkxMaEcWVycuQYW3jMHdYbh8fdZjwROb5sNKQuHLrEjh6xTAShxbSi0TCXPygKxU9Td1B4nDK5z9SNjKUiCTJLPs8Bj42GyVs2EmkwXSfGOslQbDhDFKwhio2mNE638fKHIWln6iotYllGeF0xNxEmhkwZR6M8f6QO00ipjiYbHyH7GlQ5zwOFaBKhky/QCSIO6O/DyIY6wElcUuZyXsvHdMMUvCKGjhW5OZHjEgrJ9UYKRNYlGdrKJGzKLsEIsrQIdNlrLDmhBPnf5yT/NEW+hyNl6Xs8f3geyqksgiTwJ+UldcLndT7M6zNvA4M9DEsxKNdaqQ/c40hksj3rlObLRyRg5A5DTlZe4MN5+MY3v4Ff/OzHGNq/L9xUg/kYZF5RZ1x99TUYMqgXlT7vwClsUjzxM6dRpnIGdyrBSR8sN3bBdrmjlruRA7fLBSUTR+aXFxamkaKomn3afPz8x/9BYSV35fvjy1yEeCJkK/Uh4VXQN3GFccaZ5+A/f/hD5PFCaS4zThT9Bg5ENCx9FxbatW2Nwf17yx5pNo2tjdOTBiW/MA9f/8738Itf/he+8tkrzR2Q7LeYxoUXXIIffPdn+OPvf4vC/DwT3ojA7OFqnMfMBZp3uLThhz/+Mc45c665cB4LxkbevcKL4Gc/+xlmz5nGNDIXTdkX/AYusEOOu+8zn3LnyxzLXZLYLPsPCGPqCdfNHXIEX/jsF/C1L17BQ5RkHjIXHNMwZuMOwjZlX3xZ17p1awwZdhL69OuPMMvPkYsxj3n/AX1w0tABGDZkEIYOGoxYOHrMFyyx59JLL8U3vvGNTLr78p5xgZ9gPVgOfqV+iRNh+NWvfwu/+sWv8e2vf5NHVO7YU8z3geEO58RPkF7gZLtg6ry56IcwYfxk/Pf//JIXdLNrX1jjGtXJQyHC3+PFvzA3iqED+2HwkKFo364NyzBNgULLmZ8eXTuasu/Qvh3vSeIsF+mhZH2IhNBnwCCW/TCUFkXZaHBfNq1u3bph6NChaMcwH2bDwcg0TrzT5pEePnIM/vi736CooDCzk0yZMhlXXfUt/PGaq9Gzew+EGb2IGDcrrBuXWWPXeJsQbAu2B9syv0BpaQk6dW7NI8jrmfEjPU2ZGjZr1im44IJz9l1XgniDOBuvN90uIaS3SOJz7Siu/NyV+OqXr+Q6hbjc7DDOxv7FHRbeLLpyTHhT9KMf/gcuOms+r0rS+xlCXouWGDxoIHJijJtpFud2QN8+3c05mTlPP2ivrAcEaTf1IwR+G29vvN50OQhzoAvKz6VwkZuqPPziF79Ci+JiI1SzOynQeO1lHlu0aoNr/nIN+vXqaXZJWcnHAa+66ir87Je/4PHqBCvJKylNzB4qpRnzkfXA+LyoSYXv2qUXSli5fs7K8s57q3iHxCR4d5ysZSNFYZ9qiJuK6CPKChQ1FbRxt2hQp9K8szOPUrL7gsoe/DICUzn3b8+IGVmXMLLPMqKDF1QKqJTLy259Pfxk4oB45NdYz/RMvIeE8bNxTLNhTKR8JGuqYadStDeEnKKW+NJXv4KSFrkUJsX47neuQvuWxQwjpSKN+4FdvxZtqqqvwX/95v/w2BNPI8ZMOywHWkM/Kdxy8x245up/IMx1yOMKEyhsun+DAgouYpbc/ZomO4wk00gnqrk3k87RIrn3PTZMro0U8+Z69aYMAzJltl84CsYGlomEk2W50Fhytyi/jY6P2J3pAJEqxxbVC6O+lo1aopZ352mTLcmJeJUwgcvEud+GgGB7nz598J3vfAdjx0/ApZd/Bp+74hLzmCoUieLzn78SkyaMwsiTh2LUiBEozJNGLluAR4lcLFO8M43Hs40V/zU+poGNjW1uXHcFWa+vb8Bv//An3H/vg4jxblEeO/ghCbM/niBccIyD7eJkuzRijfc33ifbTB591oekPNZhfZcez2wcwW9jd0h43uQXFOPHP/geZs+YhvETJ+NHP/qBEYZyxGbNmY2vfPmzGDdxEr733W9j6oQxRoi2KG2Jb3/zczh7/hmYfspM/OTnP0dJ61IT5fz58/HZz34WY8aMwfe//30MHz48a/ORI6LPnC1WCDUN8mg6hUS83uyTuJ5++hn81//8D8oqy01DJY9OBHlSd7Bj0rQ8gv3Bvqbrcq3weE2bOm0qZs2eyn1x1nlGTtEoLplMIRTm9ceWc8AkY5CwEodwQPrZ5SAd8WeaZhEwPO/rmTfbb9gXV2BTEJ/8ijs0vI7y5Iun6Vj//Ppac47IjWWfAYPxve99D5PGncQ0LXTrOBBXXHo+Qiw4c3OWjVfyLARpB/YLwbbAjiCMENTVxv7F5sb+BfmVa7gcv8Cv/IoN5trMGifrNgoQ4s1aEK8rfnnusKQouG1eA2W7iwSvrwEVFRX43e9+h7eXvYuJEybw6sNYmSybBMarNGekNfmXYTU0jbt0NEcjMV6k61BdV4+EFWO1sk3linhpbNu0FRV7a1lzqP95l9+1+wBMmDCOjcwEXHTxxRh20jBWrUxl79e3H84771yzfTwbpzAtzcspwLRpU3h3Mwtjx41hwzQc8844DdFwiBcLB716dsdFF12Ec845D23b8M5IGn+ppBQHW3fswI7tO+WsMLU2c/EHWrZsg3POPhvFxUWZfJj8fBC5dnhszD2eODt27MSunTszhce45cSR58fSk/2lL34RSxYvxosvLDQyQh4XnMS7zUsuuQSnnX46CvLzeJHPnLgpGTPAC5ScTLxUiKGm91naMs/NPO4Sv7KxsKQU55x7jnmslLHGwumMr0Pb1mZZotq8dSvK9+6hUMjkLZOZTLz7MtbYHRTpinWwZcsWlO3dnUkq618anQtZvpdcegkGDhxo7JMSy83Lx2nzTmPZX4Lzzj8f5517JoqKWpi4hgwebI7JaaedhoKCAm6TMMwvRc+enbuxbcsmsZ5Otko+LPTq1Run03+Ex/VQT30y+fOxacMG/PrXv8af/nwNrvnrXzFi+EkoLmI6PE4+j/+D99+N6/7+N1z3t7+hvGxPJmAjJ9EcCdLI7Ni+A7v3MA45SLRVuqZzc3PNHf9FF16ACy84D+3aSg8FTF7nzp1rjvtZZ59j7tZFy0s4edpls/GVgyb59kVo05DezPd5555nwkzgORGSW2Lu6Nd/MIYNHYwRFGGXXHwJhg0ZzLR9zDp1Nvr04t0y6748thwy9CSMHzsqmycbVZVV2Mzydd3MIwGp89IgtOZd6rm0qUVhQaaumH8fRM7DLt26IRoL449/+D3+7w//h/ffX4c+vXvxDrglZs6egb9c/Udu/yPuvfc+zD9jHs/FMC677HKU5AG//9//h//3v7/F+9u2Y+qMU9GqtBUmT57MuP6AP/N4Pf744zj3rLN4Q5Opr8aGYKGxa4I5J7jDZx3au7cc2xh/Wh57cJvYLMivbx7BSr6lnKUZtzBwwAAepwtx7nnno0P7tiyNTH10QiGMGT2KdfVCXj/ORWlJMcvVQrv27XHuOeeYOnzq7NnIzYkhJxox6wMGDEKPHh1x8SUX4nxeqwqLipj/KC7gOZCXX4g9e3i9YaqmdFlXcmI5mDP7VHN8p02bjnDIMeU/YdJk9OvXi+LuDJx/8UXo1LEjb0wkHBtv1pG95Xuxffu2bHnwj8mTjU6dO+Pss+ezDkZM/vbtPwDJOxt6epAYd7EOb9++ndsy/ii1sIN1ZDyvw6Z3mtcdT8bLSDjW0bFjec5feKG55saiYRQwj6fNnW3Oy0xJ+2jVph3zNcvYkEk+Y6P5oacunbvxWnUGwtmboRzeSJx71pm85pZQI4cwlNeIi5nGmWedbc4T6U2J5eaZ62WHDh1w/vkX4IwzTmc+Walo7750eAMwiWU3ZdJ42kOJw7QaEgls2rjR/BoDiMN6ICJoG6/ZMR4/GTcjpsj1/OA1X2kumEvqvw5PESvCEyTFxowXETduxiLIeAxbelnooyG9Az/5n19h855qKn/pBgU6dOqCKy+bj5N48pZXVuNK3jF3LeFdMu88enXth8rKHdi0axvmzr8Q80b3QX64C84/dw46t+uEsy47GzPGjcKg6ZMwsGt7tO/dH1d94QJs3rSZd2XAD77zLbQvkrRlLE4cby95BX+86WYknRyEmLjJuE8R1W0ozpw/B927taVNcorL6Z4ZcHgAPJktnmxRK4GlLy3E1bffhRperGA3gDfQcLwwT8DL4VRV4IH7FqDGLkRDKA8TJ0/AxfNn4b3ly5FfVIwffPMryOfFhzdnLBveNbgsN4f3BFJeTNlcUO0075gSdFKyNJN3TtXxNEaPOgnD+3bhxSiEDp27YtqUSUjX7mLZpxDz63H7P/6BZ19exhh4ovMOXELLhUpOWNujGPB4weRtqE2RICdwU+SOzApRbIbibPD/jlcXrzYXXnlEFUIOOrDct23fgt08Vl/64lcwsHNbpGnL57/2NXQojWHVuvcxctQ45PHiW1eXwJixE3EhL/5rV6xALi/e32feo1GqPObPsqrx6OMP4M5HXkaCd1RpySuPSzrNhmTMZJwzby5aF+bwTlEa38ylch/S6NpRcxz9RAOqq2rhhaJw2LDUJeJoSCWQ5hVORN3k6TMw64yz0IWNriejsFmgpkxYSsFF/MOQYxCx0njmmadw6z/vZRnFjGhIs86fc/7FFKiDsXnDStRWbEfIl0GQabQuaWkulu9vWI88Ntzf/NZXUGA18Hg7vJCzKeWxMOcB7yxD6Rw2xhZ6dO6OOgr8bVt3UAychfmTerKoLLTvORZf/ez5GEkBU7m7HF//zCUUSnkIFbTGRbPHIcXjI0/95555LvK9CtYHHm+rHquWv43f//5vtD6HxzzJRkk0Uwi9+g7DuafNQ+9OHTKPCvhP6prJaCMirCQbNqzCjvo0rvzsN9mQz0dBaSFefuVltG/Ri3fzW7CJ9WHkoCGYcfpZyG3REq3ZKHXv3gfLli9lY5hD8TaPgrQr+nTpgW5te1JwVKN82xaMOHkapp0yBx0LclEasZBgDRNBb8R8I2fqqbhGmJsP+pe6UbZxJX72mz8hxcZMrjfSWNlclv0iWGSgb3WoAeF4GMNGTsXnrrgMNWVlvFLF8KMffBM9OxWb8TrnXXQpzjp1KrZTuNczv22pwFwep/bdesOvrcG2zVsxYNhwXH4Rb5jcWry/eQOFhcV6vhVb1pRhy6YNSKTrzHifbeu3My8FmDxmAiJcl2tHitedq779bZZDO3NzMHrcBHzp8guMUOgzbAyu+tp5FOxh1OXm4Ftf+gLFQgOSzHyM9enpB+7Dbfct5DGO8EaQ1xrWbTmaQ0ePwxmnT0HnTvmZ89o8E8l2N2WRK4DFkDLWJWbX4qZbrsXjb67lzSXFt1vB62EukrvWY0ddKUb06c5yrGT9yeP1KYq5Z1+IaRPGYPl7y9CjT3/Wuwvh5xRi9qRhFHFALo912PHRud8wDOvVifU+Yc4quYJm5I0IohjPT2DazNMwqD3rIfPUfvAETBzSA9XVdZg04zRceu5Z2Lt1I+ycUvzkBz9A5xZheHmlmDbnDHz9K5ehorISffr0xTnnzeL508A4UqZn6tT5F2P6tGlY/e5r5oUA7oBVuxv//ctfY1t5XO5heJ7SItYLeTTv8loboxh3WHrSHefJb9PKpTQrTDv+ryMDUkOmR2Ae75xffPEFVh5WJnNBlBZDHBOTQbQOFb6Rz5ldWzZuwN/+di0WPP6oudPI5x2tPCl54skn8eYbb2LN6jVYvWo1G095Xg5eMOpw9113IcGG6u6778b2HTt4ZxPDKTNm4O133sX6dWvx3jtvoZ4XnX6825IwMuhLLmyhcISJSkepmMTGzK7H0ndfwg++/x947701bCfpWbZTpHywYmfzwe1y1ySDME2zajZR8oQtDB4yAIvfXgyXFx05UUMUb5Mnz8TCFxZi965deO2lV9CyVUu0512FsUHCm3jNQvCzb0HElBwi6XSJ11Zj4atv4JRpk3l36WLk+MlY98ZC7KiV8R78T2cGt4kIkTsMsV96hxg+M3ZGRIN00cq+Rmk1Zt8OaQgYj4gXZlLyKYLg/gcexLJ33sGbb79lumXlUWEsGqOY6mzupl9/7RWsWPauEQ7yRsopp8zACwsXYhfzvui1RWjRosjc0UrvkyQjdUR6qDJrGZywj/vuuwP/+Z//gTI21nLRERF1AIxfeqwknMvjKRTEIrjg3HPw/MKXUN+QhJdO4oH7H+bdZiXvmkvw7W/9AMOHDGd+POYnE85cbEUcBfXxQwixTKSeZ+oBbWCwMMvbCUWwe085nn7mOezZvYM7QhQum/DYo49g4/r3sWjxYt6dFyIaocwwxyebXjbbcsmXR5FPPvUElryxCKtWrcLylavRuWtHxs1GgCau5fpf//JnPPH0U3jsiad4rEN4+cWX0KbnYHQriaKo8wB0zU9h0TLWY9onJoqTwYsiZi0/xmzKjYNLe17AN3/yPbyxdjnSYZYk/UlemiLlW1NbhzWrVqJ3zx4UlmNRXRtHfbwakQjLnfGee945pvfpzjvuZMNfzzxGEGaaLdjC/fD7X2Nd70zR9yBCuRHkFcbYOCZx2WXnYf7pM3DtzTehQfLOcpW77jBlRSbVTNEE7qAEx4A/Uk8zGTabsljmLZMQ8+XTk8dyPGXOdDx2/4145okFuOueBVi+bheGnjQGpRSbo0aNxtV//hOef/55PPzIAl5z1jDKEF5dtAgLFz6LdWvX4o0330S3LryBSLt4hSJuy9bt2FO2G6+8/CpeffVV0/OcSibwxpIlWL58hbmeOBbFKcupZ0/ptcrF9Tdcw/gW4h+82Rg0cADy8nMly3jtlZdw7933YcEjjyEc5e1CbiybH15HWD5yc5F0WG8lq1LvKFYef+AJ/ORH/4/XPNY5ilg55w8uyjM1TPbJAFdWKnMTFOyTM+GJp57F9Fmzed5L3fGRk5eDiWNH4sWnH0PF3jI88+Ir6NZ3kDnbkhRShQWF+I/vfhtjxk1E29IibKcoldT32yDGG2nMG9G9WLr0HYybfArPyzSmjTsZr72+hF5s0xN16623sEyex2133IVdlfXoP3BI5gY4VYkb/vZnPMn6/s8778JWlrdlU+RRYJ15+hyM7dsRf/rd/2JbpYjwTB2QVOUclWuQWSGmN47/3ntvuenR+exnr0TLlqVmm9K8adIyHDtSSdZSPFRXVaFNmzamkQowXdeNnDy/NNvppb66lg2+3AHyIsPfECu1E4viO9/7Lr7GO/sz5sxDz27dpW6aOGUMgjhZlguGiYdhCwsL0aVHb8znneW8WacYYbO3Up6DsprSb2N7TM2WxHlXneJdk5wYqaSRI9xGJc/tQeU/GEE+9hefizTvtG6/40acedHFaNuhLcJ+mnewvMvJycegYUNx5rwzcCob9GXvvYf6JO/KArLpNH2WLSeXLMnYiBAv7lHa9cKrr6Ftl97o3qUThg3qj9dffQlp3tk1Llv5J4/spEFgYPMWQ5LHxvXrWb7BHYckepgMkiAuadjEkqI2LfHLX/4CX/rcF4xQLSnJjPFJppLYsn0XrrjySlx+8fkYPKAPFi95EyE2ZPIY5aThw82jFOl+X7FyBWpraw+0ly4YmJhJ10NdfTWP33bWKekp49109tDshxdJj3dhItCcMPJ41/r1L34OZTzmDz38GMNRaDDPL734Khv753DX3ffjTTYqg/r24+GVMSGW6TqXOmvzOMmvucgdUEc+HHmWfvstt/EOdTXOO/9y/OpX/4P+vXux9EMYM2EK/vtXvzRd5VOnTmUjJD0EmbxKWoKkJ3VeGrpIJAff/ObX8Y1vftmUb7fuvZg32unKKCre6VdWm3EJMhD1vocfN700Zdu2Y+XWKowfdTIbkvFYu/R17KGglfEYjctXRLs0cKJUpHGSurp+6ybEmXfXyNODIwJv2MkjMHbUCPz3L36K//jJT5GbW8rjOQPxRDU6tO2Fohb5rBc/w8aNm0x+6hvqEW9IUexMwEuvPIm/XHM9G60QquvKsbe6mvnqau7a//e/f4Gde7YjzuOYlrtjqWUsh6BsjpT9ecyw7zjSycMGOUOl/joUj7HcKCrLd1L8MR3u21tej9z8IuTm5TKca2yXGx15IcEIVT+Cc885D//50/8wj0BHsCxk8LMklxH4bKqZnvnlP0Zpyl7SF+fwmMt4MhkfJgNJG+J1FD9J41/OAznno5GoERA1lRWs0yFej3izYGdexxbEb3B+iHiRrWHaZrOsUvVJbN28m3FK/rlTfvYXxSGRWi6Ds+XmRk4uSX85RbMXy0OPnl25nkIkGkE+RcyEsaMxdw7FAoXK2+/w2lVdhcp4GH179kEBq9TwkePQoSQP2zZvNiLL3NxJIsYOloGM77Ia8OLLL6DPSePQqX1bDO5SilcWv8k0oojSlZeXs/zlWuVhb1U1whEeD5aNZdWgqmo3j1eE9Wsrnn76OcaZ6fnM5znvpOqQ5rVUXqxoWufFNSU/L9/Uj2XLlvFGuH5fO6Q0Xz6yI5jmXcnKFSt5F/oMBgwYsK8CNa1U8q8x5jE/fzNd2NLlC7Tv3BEdeafzpz/8EbfffAsq9pRlLgrGSyae4CIhSKXcuGkzdpWV46Ybr8eNf7sGN95wA96Tu6hsevttkEsAw8rjFCr5Du364Itf+izatss885Y3cOBH6T54Agj745GYM37kPJCBfO++9xaefG4Rvvylb6JFXhTpVBV2l+/AitWrcN1f/4rr/3Itbrr5ZmzftdOEl9ej5YSXjMmF01wUpZETEcdlppbpVeEFxvESqNi1De9uq8WF55+LaLISSzfsyQyAbWwToxPxImHkvkO60afNmoULLjoLtiMD3XiFNMV26EPfOL6QuT23MeikYUgkk/jt//w/3PXPf7KRinO/jaKiIpTybuaZZ5/HxnWruf+/sHrdevpNYwcFxZo1a3Ddddfhr3/5i7nrLJMxJDSgcRqNkUcsQ4eMxBVXXMmGJcLy4AW/ianSXJi3DpiHSE4hy/vLqN67G3eybOURSTgcgyMXQNNFYvFuNozevTph9871bNTYODBPrTt0xlcpkNu1KsnGenia2it/LTNWwMITTzyNX/z3b7BqzfuYMnkiBSMwdcYsvPjC87yr/wNeeuklicC4NO9Ag14cOc7SGMkg6Jalbczg2P/7w29YTjdh27ZdtJT2iz+pB7RZ5uuQ2pvmXahcyMNcf+y5lzBsymk49aSueOSlt82dayap/fZaIshZjtKd5rEx7dyxJ676wlfRqUUrhLJPHDJn0oHItqLilojXVqGhppJiysPmrWUULTnYsWszKsqTWLToVR7rBowYcTL27t1rGqNl763EnjoLS5a9gZxwLqaPHYsV77yO9Rt3o7omiVdfXgQ/4WLy+JHYsnk1autrmaco8lt1wle+8lV07drVnNMfxoF5PHBbKEwxIOclz6dIKAw3nsDOrXsw5OTJsCj6i4vyMHRgF6xbs8z0JkoD2r9/fxNWxpSEwxHkxAowZco0/OOmG3Dd9dcxX8syiRC59NTX1ZlxHHI8pSdSBIupF9KYyrWEhCIicFJm3ElpSVt06tSD6zyfBg2miKkzj0fkrUGZs4a1gceJoscWOZfJv9hjfvkvwmMl18c0xVaal4feg/vg81+6EAUtpGdZbljo92AHMktQNuKkB0YeK0nsDq8JCdbLZ19+DRMmjmM9S1Bw8trFG8BXlryNa//+d1x37dX4583XmZcX5PHMjFNm4tlHFyCaW4T+Xdthb9luY7uJ36QmZcA8MO82BdnadWuwsyaNiy44D3s3LMf2PRW8EU0wXBlO5k2OlGHrlsXo060dtmzcaARWiuHlTTfpkpfbMhk3JmdDrh/HXfc+gO28f73i819Goc00mPHG+RMnNF7v0aMHhdBGvP766+Ym2JRqxpvSTHF+Ju/LNkGEwerVq023qDzr55/snkMhHXjSYEbQunVb9OnRFS9TcWfugYTMXzm3gvoiF4Cu3bqiY6tCvPL6mzwhQ5gxeTKWv/U21lOwjBg2nCfJFEyaNBWRWA728oK5ev0ejB4/GM8//zImT52MRS++gn4nD8eeDRvx4pK3MGXCWJxx+pk8CSdgzPhxWPLmW0jILY2pqNlKnT3BjcVuCL169Me5Z8/Gu8vewc5de+lVnp/L3RU9fljl9tioWLyLysnlXfZ4XphfwltvbzS9IwP698YbS9/G5m1bcOZpczFn9umYNHkK+koPxRtvoHu3nvj2d77Li+YAdG5XglFjx2EPL2bl5RX49re/hylTp/GEboEhg4egfccOeItxMQfYWx/GxadPw3OP3I03N+w23e7+vu7gDNJjI48RXDaMcqEazbjnTBuN1xctRj3v2swzOu6XwaMfhniRGzwZVzKD9k9l2Y4bPx4hXqTl2fjG3RWYPGUyRg3pix69+2Ig7c2JhLBu4xZs3rwRZ55+GmbMnIWp06Zj4IB+eH3JG0ZUmSuHHJNsOgHS6zJ50hRMHD/GjLWoi9eZY2WO3T54sWIFkgHVM0891YwFKi7Mx/Tp0zHj1LlIszHYtm0rfvjD7zPt6TjllKl49+038OxTjyPtO4gjilbtOuHSc89APe/IV6zblLEl644Yls1Xv/oVnHHmmayPU1DcohCPLLgfuyrqWCdyMG/WdB7zSejUpTvyomG88PxzTLcLvvWNr2PYsGHo0KYlRo4aiZqEh/UbNrDO9MScOaey/k5DNJaL2urteP2NNejddyBa5HhY8s47zLM8EhLhy8bBtbCzsh7TT5mB3Or3cfNjC1mAFHxy3h2QD+lVFMc6z/z37zcI582bi3d5fuwp22saMvPYSbw2CiaPAcvZuJ88bCDOnHcaxkycioKCItx5x9+xl41YZUUNLr3sHJ6j09Gxc1fc8o/rKWqqsGz1BrRsVYoLLz4HkydMR/nuHbjv/ttQWeOgvqEGV15yMcZMmIo2bUtw641/R3lVHbxwIfLyinDphecaUff226zv2TxIu/yBivIBpC7TE8NcdullOPOsMylS22Bgr17oT/G9dNFSrF2/HvPmzGN5sT6eMg3L3noJC599BtUNHqory3HBuWdhIgXL9FNOwc7tO7Bp6y60bd8GZ8yZjinTZiE/vwARlvsLL7wE34mginbPOGUkZkyfjwkUrm8vXcp62ALf/u73cPLIEWjPa9tJI05CkhmQMXAR3pRcfOFFGDtxEvr07YtbKIx27tmLUaPHoK5yF95bvR3IjWLm5DFYuPAFxBOZ89PUS/6aKROYTyNiecxGjR2BWaeMw+LXF9OWejkrMuf0h12v6UV6L+Wa3b5zD/TrWIynXnuXNxc7eQ5NpdirwdPPv4Atuytx8QXnMu/TMWvmTHRsXYSl765Aa4qwkRRPN//jRkQpgk8e3Nc8Xq5JZsSziAkZYJ25yZR6R3t5rXXCYcybOQEP3XsXNm0rZ7nA3OScfcZclvl0TOQ1b/ELT+O1V16FXVDCc2cMXlr4EurkBTOp74zHsXMwa9pwPE8R/PxrS80j9d5d2+KtZatYXzO9YUEe9/1IY0O6UMC04nViKeu9a4SilKSUbTaM8rESNEcy1cSZvKbm5uaYYx4c0oPBdiB7dEmwKF2bCxYswG9/+1vetYdN1+BhYSW13CSb0iI2YMMx79QJ+M1//5Sxx0yFCrrqZIyZuRgReU03FovxDi2COt6JiL8cXvTjiQRSjE96IOQND7ElwW3y7FZUs2xraGjY9yuZlbjSvIMIwggSRrYfqpuwUbZRlFeAmurqfX5lj9j6YfU6uEsU2/Py8swYAIlXbBUn43VkXbpJJa/iX2yWPMkdh9ganHCyT/InNktcEj6wMZlMZsJ5YYqA4fjO58/BT3/6PWyrTfISJIPSGsEwImCkYzhlRRD3HN7tDcIPPn8a/uNHP0FFTYJ5k9fYebH7kOtcY6R85fjEIrSLjZDHO+Z6NqAdu/XBVV+8BH/8319gV72Fbl0744dfvgzf/vEvsHOvjJWQgXMy/iLz+E/yLuy70DRBykHKRvIveZZwQRf6wRB/Ur6BvyAdKccSNiYu7Rbb5dhIHPIIIG7lGNH51//6IRbceSOeWLJSDDL7D5VOUyQdsVXSFhuk7km64mRZ9mXeuuKdOtOWspNf2VdAcSLpSFnIegPDyGNFsV8eNch2sV/2BXVf0pN8SLggbbmTt8Mt8duffhsvP/sgHnzmGaQiBabX7GC5kHCBK8zNQ4O8UstlU27c37TOSxqC7JdjaGzlMQnOK9lv6gSvEZJvqaf77HMy82+IHwkTIPuk3ktc9XVSH/afQ7Lvlz/9TyylWJfrj9nGfUdyLgZI2cn5I/HLwGZBbKipqTFx2RTXkhfxF9SJwI/kRY5n4/oiFDAfliuPrOtNWHn8QwVJWZg5tyWc5F2OlZSLrEv6gsQr+6R8hCDvsk3KUfaLvbIu6QZlHdR9QbY1RsLIPolH4pPrjBDY+2FI2CDu4FyTvAW2C7IufsQW2R9sk7TlnJZtkq6ElzDBta6xDbIu/qXgPS+PImUsTps7Hv/5w58iUcfrU9jnNY03gNnro+Rf4hE7xAV5C+yV/Mpxk/NKtkta4iR9Ob5CUO6ZhiZzPZAwEt/kqZPQu1s33HztdZJxJOTenN6OrNSU443Rkzxect247bZbUVpabA7O4ar1R9QDQy9SSam6rZCD2bzrTcYbUF5eue+iJpg6RSeVWiqU/LopnrRyB8g0pQKbk5N+ZF1O8OAkl30Sj1wk5FfibRwmQPaLC7ZJOh9GKiHTTmfUe1NbD4ekH/yKHQFywoiT7cFJF9gVhJH0gou+bJffwAbJc+BfnMRdWlqKseNG49xzTsOTjz9kxl2kfFGocjeeiTMgY7Zc/C3Mnn0qzpx/Gh5fcC9WrVnHOy+Wh9wdST4/JH+NEbslH8lEHF6avzJlOyNo2bo1Jo0bxbu33VQTMYwccTJi4RCeePo5ppF5fVHyJnmSOIL8B+XclCAdCRf4FQ7lPyjboMyCchTXwAtuksdW9gkmDv7v3rMXvv7Vr2DX9k149OGH0eBJmRydgAmQ9CV+OZbB8RPkV7YH+Q5sMHlLZmyVPEpDZeYwyoYLwog/cRJW4m1ablKvTj55OE4/41Q4VgJ33flPpLwoj0mMl20ZP2C8fQAJL/GJDeJF1oM4fbPBLBqCNI1/2io2y7Ig+ySc2S55byREJA7JT+PjLsi5KMuyLXOceH5kb45atWqFb3zj64wnbQbpy/5D2XU4JEyQbiq+/xwK7JJxFkHZBwTpBHUp2BfYLdvkOhUca5MPbpdHRVIewbEX5FfSFyfh5FfCBQR5D46txCXbZD0oH9nfmMC+gCBc4DfY39TfkRDkKQhryo0uyHuwX9IJtgV5lHVxkk/5lTga2xBsk4GzkydMxOnzZuHWW2/C5s3bWX4U+bxuyaM28SfxiZN8BWEb2xH8yv4gPUFsERsbp5tZDlzmJqdv377mFfaVy1dg3fvvS0Rmn9AoqPIx8jH2wPCE4vkrM966TG1wn94YMXSIGcH/PitLoIqDHpggHalogeqSZdkue+StgczSBwn8BTRdFxpvk+VDEfgRGwJfJix/j+Sur2m6AYeySfiw7Y3Xg2U5Sbt06YKJE8Zh2bI38d7b77KRirKZirGsaLy9/2Isxpvvg9B4agw2DK3NhaC2YpcZ++HzWMjzZdmffUx/ROyzh42OPJEWa83nC1g3Bg3obR4PWaGIGQfx6ovPo7Y+zmO9/yLRlCBvTWlcPuKnabkcjMZlJewLw2KQacMbxylTv8dyC1BUXIw9O7aYskrJY5ls8MOl05jD2dl438GQWVYPsJf/5Fm//B4sfOBXtsuy1Ac5yefOnYN4QxVeen4hEvUU+qwPMrkb5HMdh8hGEHdQ5/fFTde0zje2I7CrsS2CrEvvRKNgB42raTiDXAyyvSTSyLRs2RJ7d+1k/jKNu0mT+46mB2ZfONbT4AF2kKa59mQbzA/DxNEoLnl803i7satJ9Q72BcvCvjiapBlsaxrmYP5lvSkftv9wNA4b0DTNpnzY/oDGtkg9lTAyJvLkwUPx+pJFZiyMvN0lU1WYEXqNLkJB/IdKK4i78b7GfoNl4y9bt2RdemjkXKksKzNvO6XliQH3yRC5g00foHw8BFrgaHpgPiIBIxdlGXTFKslWI8xaIR9ok8nthKYCpjGNxYMgFhzNBeuj4JNgw+HYd4fBC7u8MSCD5eStEhESZjKmphdS8cJcZKaVZzA5YSkuucZgEiaTNYnhaMlUkUw4Xi7MBnmTxkxNL4MR5c6G9UUGJwcXnI+LTDkciJSF2Gwudtwrd+S21M8TaOq/Wt/kPM04nmvmHJPzi84cG8Ylmf6QuD7KOn/McWUbmaChk7ojHy1tXG2O2S4GDERHgInr6Kv8RxvXp4ignvIPQmZsljx2i7AwZQCxHNImFeejpJGAESd1LMq6JY825UOOIe6TQdEpOXWOlw3KUSHXEakrRyNgPrJTUCbPktNaIjQDyVhRIK8kUmHLnszeDyLbpYNVXODvRBPYEKT/cdhwOAIhYB7n2fKBATa+LGgp84MNxJVzV/Ig3fiZJ0YyjwQX6OQikvl7mFrxoZjLN2PINKLS0SKNj8w5Yt7EOFyNO4EE5SAuqGOmV0juwmmjiBdTpieYwJ7ANnFHi5SxlLVvhRkXhRjrgccbiCMZmC2IKAhsCH6PlcZxBO7IEFtFXIt44ZqM3eKyxNU4vmOlaf6MEDpGGsdllj8ZVfwTj7mhYV31eNPl82bYdPuaOvqvHNkjIVO3JB1Tv0TfS3skV77sKSKzEyvNG9aujwBWBGkopW7Ka6XSRsi0E7JBvpAs+0wvwcEqjGzPOuPnUP6OJ43S/9hsOAxyERBn5pjI/mbKnH8OJhay+8Sv9J6ZHjQ5FuLoXwSMuGNBkpMLgvyauygeXxOniV/s4jLdJ0LEiI2Nj6lxUi4ZQWcmVpRtJ9rUrC3HWt+kbIPyFSEWHFcp+0ydMLsOj/hpnP5R2nAA2fBHnR/xQyfHwOhKuekR+7NxHEvZ7EPCNIrD/B5LPEKTuI7Zpk8ZQR01IobixZPrkBzj7PXjuJZhNv59dYv1SnpfJH15g1LS96SNOp42KMcdORUVRVEURVGaFSpgFEVRFEVpdqiAURRFURSl2aECRlEURVGUZocKGEVRFEVRmh0qYBRFURRFaXaogFEURVEUpdlx2Jl4f/Ob35iZeM0sQIqiKIqiKMcBMxcufPPx1ANn4j30ZD2HFDD3338/fv/738NxItyhs/0oiqIoinKcMArGQ35+AW6//TbzAWOz+VgEzIMPPpjpgbHDFEH6pElRFEVRlOOEJR9x9VBQUIA77rjj2AWMfL149erV2LBhAwPLxwH0EZKiKIqiKMcJChh5hCSfnhg5cuS/1gMjyyageXx06AgURVEURVH+JYJv7GV1iONkOk6OWsAIgYDJbFIBoyiKoijK8WL/F8pFe3ieZ3pjjljAKIqiKIqiNAd0dK6iKIqiKM0OFTCKoiiKojQ7VMAoiqIoitLsUAGjKIqiKEqzQwWMoiiKoijNDhUwiqIoiqI0O1TAKIqiKIrS7FABoyiKoihKs0MFjKIoiqIozQzg/wMiqC+z2XPpmwAAAABJRU5ErkJggg==)"
      ],
      "metadata": {
        "id": "EeZaEr1QMo_s"
      },
      "id": "EeZaEr1QMo_s"
    },
    {
      "cell_type": "code",
      "execution_count": null,
      "id": "bb01eb04-3a68-48e3-97b5-ff8f885ed6e7",
      "metadata": {
        "id": "bb01eb04-3a68-48e3-97b5-ff8f885ed6e7",
        "outputId": "42f4ecb0-30ce-40f6-9dd5-f02e9f1b3189"
      },
      "outputs": [
        {
          "name": "stdout",
          "output_type": "stream",
          "text": [
            "{'name': 'Kelly', 'age': 25, 'salary': 8000, 'location': 'New York'}\n"
          ]
        }
      ],
      "source": [
        "d={\n",
        "    \"name\":\"Kelly\",\n",
        "    \"age\":25,\n",
        "    \"salary\":8000,\n",
        "    \"city\":\"New York\"\n",
        "}\n",
        "del d['city'] #removes the entry with key 'city'\n",
        "d['location']='New York' #inserts a entry in dictionary with key='location' and value='New York'\n",
        "print(d)"
      ]
    }
  ],
  "metadata": {
    "kernelspec": {
      "display_name": "Python 3 (ipykernel)",
      "language": "python",
      "name": "python3"
    },
    "language_info": {
      "codemirror_mode": {
        "name": "ipython",
        "version": 3
      },
      "file_extension": ".py",
      "mimetype": "text/x-python",
      "name": "python",
      "nbconvert_exporter": "python",
      "pygments_lexer": "ipython3",
      "version": "3.11.7"
    },
    "colab": {
      "provenance": [],
      "include_colab_link": true
    }
  },
  "nbformat": 4,
  "nbformat_minor": 5
}