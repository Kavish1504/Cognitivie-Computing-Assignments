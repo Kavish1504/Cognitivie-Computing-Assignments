{
  "nbformat": 4,
  "nbformat_minor": 0,
  "metadata": {
    "colab": {
      "provenance": [],
      "authorship_tag": "ABX9TyMURMeAob70hgQYxxajj5s7",
      "include_colab_link": true
    },
    "kernelspec": {
      "name": "python3",
      "display_name": "Python 3"
    },
    "language_info": {
      "name": "python"
    }
  },
  "cells": [
    {
      "cell_type": "markdown",
      "metadata": {
        "id": "view-in-github",
        "colab_type": "text"
      },
      "source": [
        "<a href=\"https://colab.research.google.com/github/Kavish1504/Cognitivie-Computing-Assignments/blob/main/Cognitive_Computing_1.ipynb\" target=\"_parent\"><img src=\"https://colab.research.google.com/assets/colab-badge.svg\" alt=\"Open In Colab\"/></a>"
      ]
    },
    {
      "cell_type": "code",
      "execution_count": null,
      "metadata": {
        "id": "SfFWXoujj2EA"
      },
      "outputs": [],
      "source": []
    },
    {
      "cell_type": "markdown",
      "source": [
        "Assignment 1\n",
        "1.1->"
      ],
      "metadata": {
        "id": "hQD3uLntkJBF"
      }
    },
    {
      "cell_type": "code",
      "source": [
        "for i in range(1,4):\n",
        "  print(\"Kavish\")"
      ],
      "metadata": {
        "colab": {
          "base_uri": "https://localhost:8080/"
        },
        "id": "2dXLxICXkN-B",
        "outputId": "0afa8969-6d9e-417d-9197-556c5d769705"
      },
      "execution_count": null,
      "outputs": [
        {
          "output_type": "stream",
          "name": "stdout",
          "text": [
            "Kavish\n",
            "Kavish\n",
            "Kavish\n"
          ]
        }
      ]
    },
    {
      "cell_type": "markdown",
      "source": [
        "Assignment 2"
      ],
      "metadata": {
        "id": "7Cw2qlkwkfgI"
      }
    },
    {
      "cell_type": "markdown",
      "source": [
        "2.1->"
      ],
      "metadata": {
        "id": "LR8prhyNkiFa"
      }
    },
    {
      "cell_type": "code",
      "source": [
        "num1=int(input(\"Enter first number:\"))\n",
        "num2=int(input(\"Enter second number:\"))\n",
        "num3=int(input(\"Enter third number:\"))\n",
        "sum=num1+num2+num3\n",
        "print(sum)"
      ],
      "metadata": {
        "colab": {
          "base_uri": "https://localhost:8080/"
        },
        "id": "xMxgvqankjuN",
        "outputId": "235cfbd0-2652-4ba8-c54b-a686ad29b165"
      },
      "execution_count": null,
      "outputs": [
        {
          "output_type": "stream",
          "name": "stdout",
          "text": [
            "Enter first number:7\n",
            "Enter second number:8\n",
            "Enter third number:9\n",
            "24\n"
          ]
        }
      ]
    },
    {
      "cell_type": "markdown",
      "source": [
        "2.2"
      ],
      "metadata": {
        "id": "C9oXzFNWkzp_"
      }
    },
    {
      "cell_type": "code",
      "source": [
        "string1=input(\"Enter first string:\")\n",
        "string2=input(\"Enter second string:\")\n",
        "string3=input(\"Enter third string:\")\n",
        "final_string=string1+\" \"+string2+\" \"+string3\n",
        "print(final_string)"
      ],
      "metadata": {
        "colab": {
          "base_uri": "https://localhost:8080/"
        },
        "id": "tuEyXQYck0zh",
        "outputId": "7610aaed-6330-4359-9edf-57ce160d0e23"
      },
      "execution_count": null,
      "outputs": [
        {
          "output_type": "stream",
          "name": "stdout",
          "text": [
            "Enter first string:This\n",
            "Enter second string:is\n",
            "Enter third string:Cognitve Computing\n",
            "This is Cognitve Computing\n"
          ]
        }
      ]
    },
    {
      "cell_type": "markdown",
      "source": [
        "Assignment 4"
      ],
      "metadata": {
        "id": "HsS9LJzAlZOR"
      }
    },
    {
      "cell_type": "markdown",
      "source": [
        "4.1"
      ],
      "metadata": {
        "id": "5tevcM4hlbOe"
      }
    },
    {
      "cell_type": "code",
      "source": [
        "for i in range(1,11):\n",
        "  print(f\"7 x {i}={7*i}\")"
      ],
      "metadata": {
        "colab": {
          "base_uri": "https://localhost:8080/"
        },
        "id": "UXKmU15tlcBY",
        "outputId": "e379125b-3bc2-4c5c-98a1-28c02939b3d3"
      },
      "execution_count": null,
      "outputs": [
        {
          "output_type": "stream",
          "name": "stdout",
          "text": [
            "7 x 1=7\n",
            "7 x 2=14\n",
            "7 x 3=21\n",
            "7 x 4=28\n",
            "7 x 5=35\n",
            "7 x 6=42\n",
            "7 x 7=49\n",
            "7 x 8=56\n",
            "7 x 9=63\n",
            "7 x 10=70\n"
          ]
        }
      ]
    },
    {
      "cell_type": "code",
      "source": [
        "for i in range(1,11):\n",
        "  print(f\"9 x {i}={9*i}\")"
      ],
      "metadata": {
        "colab": {
          "base_uri": "https://localhost:8080/"
        },
        "id": "1s8BxsJMlpdl",
        "outputId": "50e980ea-9a90-4b24-80b8-8db865da0914"
      },
      "execution_count": null,
      "outputs": [
        {
          "output_type": "stream",
          "name": "stdout",
          "text": [
            "9 x 1=9\n",
            "9 x 2=18\n",
            "9 x 3=27\n",
            "9 x 4=36\n",
            "9 x 5=45\n",
            "9 x 6=54\n",
            "9 x 7=63\n",
            "9 x 8=72\n",
            "9 x 9=81\n",
            "9 x 10=90\n"
          ]
        }
      ]
    },
    {
      "cell_type": "markdown",
      "source": [
        "4.2"
      ],
      "metadata": {
        "id": "utgN35Sslw3z"
      }
    },
    {
      "cell_type": "code",
      "source": [
        "n=int(input(\"Enter n:\"))\n",
        "for i in range(1,11):\n",
        "  print(f\"{n} x {i}={n*i}\")"
      ],
      "metadata": {
        "colab": {
          "base_uri": "https://localhost:8080/"
        },
        "id": "JJS5jTPOlyKR",
        "outputId": "aa4b5e77-d310-42db-f946-e3d52c2d12d9"
      },
      "execution_count": null,
      "outputs": [
        {
          "output_type": "stream",
          "name": "stdout",
          "text": [
            "Enter n:13\n",
            "13 x 1=13\n",
            "13 x 2=26\n",
            "13 x 3=39\n",
            "13 x 4=52\n",
            "13 x 5=65\n",
            "13 x 6=78\n",
            "13 x 7=91\n",
            "13 x 8=104\n",
            "13 x 9=117\n",
            "13 x 10=130\n"
          ]
        }
      ]
    },
    {
      "cell_type": "markdown",
      "source": [
        "4.3"
      ],
      "metadata": {
        "id": "z33uQ9wJl8Ua"
      }
    },
    {
      "cell_type": "code",
      "source": [
        "n=int(input(\"Enter n:\"))\n",
        "sum=0\n",
        "for i in range(1,n+1):\n",
        "  sum+=i\n",
        "print(sum)"
      ],
      "metadata": {
        "colab": {
          "base_uri": "https://localhost:8080/"
        },
        "id": "mUsjy6gGl_1r",
        "outputId": "22776dea-f003-438d-b84f-ae9d46c39327"
      },
      "execution_count": null,
      "outputs": [
        {
          "output_type": "stream",
          "name": "stdout",
          "text": [
            "Enter n:10\n",
            "55\n"
          ]
        }
      ]
    },
    {
      "cell_type": "markdown",
      "source": [
        "Assignment 5"
      ],
      "metadata": {
        "id": "haw1QqZrm-Ch"
      }
    },
    {
      "cell_type": "markdown",
      "source": [
        "5.1"
      ],
      "metadata": {
        "id": "FaMxu8kgm_7S"
      }
    },
    {
      "cell_type": "code",
      "source": [
        "num1=int(input(\"Enter first number:\"))\n",
        "num2=int(input(\"Enter second number:\"))\n",
        "num3=int(input(\"Enter third number:\"))\n",
        "'''\n",
        "if(num1>num2 and num1>num3):\n",
        "  print(\"Maximum is number 1\")\n",
        "elif(num2>num1 and num2>num3):\n",
        "  print(\"Maximum is number 2\")\n",
        "else:\n",
        "  print(\"Maximum is number 3\")\n",
        "'''\n",
        "ans=max(num1,num2,num3)\n",
        "print(ans)\n"
      ],
      "metadata": {
        "colab": {
          "base_uri": "https://localhost:8080/"
        },
        "id": "Ixy5mqRVnAft",
        "outputId": "21532251-2ea7-4b1e-900c-4cc58e2ceae1"
      },
      "execution_count": null,
      "outputs": [
        {
          "output_type": "stream",
          "name": "stdout",
          "text": [
            "Enter first number:67\n",
            "Enter second number:45\n",
            "Enter third number:90\n",
            "90\n"
          ]
        }
      ]
    },
    {
      "cell_type": "markdown",
      "source": [
        "5.2"
      ],
      "metadata": {
        "id": "LhrP9nyOnhUE"
      }
    },
    {
      "cell_type": "code",
      "source": [
        "n=int(input(\"Enter n:\"))\n",
        "for i in range(1,n+1):\n",
        "  if(i%7==0 and i%9==0):\n",
        "    print(i)"
      ],
      "metadata": {
        "colab": {
          "base_uri": "https://localhost:8080/"
        },
        "id": "jwYuLnFvniY1",
        "outputId": "775ba6ed-26df-4913-d250-8e99bad81bf1"
      },
      "execution_count": null,
      "outputs": [
        {
          "output_type": "stream",
          "name": "stdout",
          "text": [
            "Enter n:70\n",
            "63\n"
          ]
        }
      ]
    },
    {
      "cell_type": "markdown",
      "source": [
        "5.3"
      ],
      "metadata": {
        "id": "wTVIfq4Zn2Fp"
      }
    },
    {
      "cell_type": "code",
      "source": [
        "n = int(input(\"Enter n: \"))\n",
        "\n",
        "def is_prime(num):\n",
        "    if num <= 1:\n",
        "        return False\n",
        "    for i in range(2, int(num ** 0.5) + 1):\n",
        "        if num % i == 0:\n",
        "            return False\n",
        "    return True\n",
        "\n",
        "sum_primes = 0\n",
        "for i in range(2, n + 1):\n",
        "    if is_prime(i):\n",
        "        sum_primes += i\n",
        "\n",
        "print(sum_primes)\n"
      ],
      "metadata": {
        "colab": {
          "base_uri": "https://localhost:8080/"
        },
        "id": "7boXxIlDn2uF",
        "outputId": "4729ed22-0309-43fb-b4c6-6e32a2b21aaa"
      },
      "execution_count": null,
      "outputs": [
        {
          "output_type": "stream",
          "name": "stdout",
          "text": [
            "Enter n: 20\n",
            "77\n"
          ]
        }
      ]
    },
    {
      "cell_type": "markdown",
      "source": [
        "6.1"
      ],
      "metadata": {
        "id": "Z6S58o4tYTb_"
      }
    },
    {
      "cell_type": "code",
      "source": [
        "n = int(input(\"Enter n: \"))\n",
        "def add_odd(sum,n):\n",
        "  for i in range(1,n+1):\n",
        "    if(i%2!=0):\n",
        "      sum+=i\n",
        "  return sum\n",
        "sum=0\n",
        "ans=add_odd(sum,n)\n",
        "print(f\"Sum of all odd numbers from 1 to {n} is {ans}\")"
      ],
      "metadata": {
        "colab": {
          "base_uri": "https://localhost:8080/"
        },
        "id": "hn0bxvIzYVO-",
        "outputId": "0952a0b6-b39a-45fb-a186-584ca5673616"
      },
      "execution_count": 4,
      "outputs": [
        {
          "output_type": "stream",
          "name": "stdout",
          "text": [
            "Enter n: 10\n",
            "Sum of all odd numbers from 1 to 10 is 25\n"
          ]
        }
      ]
    },
    {
      "cell_type": "markdown",
      "source": [
        "6.2"
      ],
      "metadata": {
        "id": "GLCIHWVOZSKu"
      }
    },
    {
      "cell_type": "code",
      "source": [
        "n = int(input(\"Enter n: \"))\n",
        "\n",
        "def is_prime(num):\n",
        "    if num <= 1:\n",
        "        return False\n",
        "    for i in range(2, int(num ** 0.5) + 1):\n",
        "        if num % i == 0:\n",
        "            return False\n",
        "    return True\n",
        "\n",
        "def add_prime(sum,i):\n",
        "  sum+=i\n",
        "  return sum\n",
        "\n",
        "sum=0\n",
        "for i in range(2,n+1):\n",
        "  if(is_prime(i)):\n",
        "    sum=add_prime(sum,i)\n",
        "\n",
        "print(sum)"
      ],
      "metadata": {
        "colab": {
          "base_uri": "https://localhost:8080/"
        },
        "id": "GPiv7zX0ZTFe",
        "outputId": "386c89a5-6f17-4eec-b6ed-19de1e0e054c"
      },
      "execution_count": 7,
      "outputs": [
        {
          "output_type": "stream",
          "name": "stdout",
          "text": [
            "Enter n: 10\n",
            "17\n"
          ]
        }
      ]
    }
  ]
}