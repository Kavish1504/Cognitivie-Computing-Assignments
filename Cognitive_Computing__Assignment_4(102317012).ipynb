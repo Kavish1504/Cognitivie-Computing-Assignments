{
  "cells": [
    {
      "cell_type": "markdown",
      "metadata": {
        "id": "view-in-github",
        "colab_type": "text"
      },
      "source": [
        "<a href=\"https://colab.research.google.com/github/Kavish1504/Cognitivie-Computing-Assignments/blob/main/Cognitive_Computing__Assignment_4(102317012).ipynb\" target=\"_parent\"><img src=\"https://colab.research.google.com/assets/colab-badge.svg\" alt=\"Open In Colab\"/></a>"
      ]
    },
    {
      "cell_type": "markdown",
      "source": [
        "**Name-Kavish Gupta**\n",
        "\n",
        "**Roll No.-102317012**\n",
        "\n",
        "**Subgroup-2Q11**\n",
        "\n",
        "**Assignment-4**"
      ],
      "metadata": {
        "id": "-eThg30ZUyDO"
      },
      "id": "-eThg30ZUyDO"
    },
    {
      "cell_type": "code",
      "execution_count": null,
      "id": "5d70fbb0-4188-489b-8964-3c532ffefad0",
      "metadata": {
        "id": "5d70fbb0-4188-489b-8964-3c532ffefad0",
        "outputId": "ad8089e3-9d92-46a0-e3ea-b9a9f863b1d2"
      },
      "outputs": [
        {
          "name": "stdout",
          "output_type": "stream",
          "text": [
            "3\n",
            "4\n",
            "5\n",
            "6\n",
            "7\n"
          ]
        }
      ],
      "source": [
        "import numpy as np\n",
        "c=np.array([1,2,3,4,5])\n",
        "for i in range(0,5):\n",
        "    c[i]=c[i]+2\n",
        "for i in range(0,5):\n",
        "    print(c[i])"
      ]
    },
    {
      "cell_type": "code",
      "execution_count": null,
      "id": "c934a084-4c48-4260-81f3-fa6577675f09",
      "metadata": {
        "id": "c934a084-4c48-4260-81f3-fa6577675f09",
        "outputId": "ad4749c9-d522-4194-ac22-a02bb519ac30"
      },
      "outputs": [
        {
          "name": "stdout",
          "output_type": "stream",
          "text": [
            "3\n",
            "6\n",
            "9\n",
            "12\n",
            "15\n"
          ]
        }
      ],
      "source": [
        "import numpy as np\n",
        "c=np.array([1,2,3,4,5])\n",
        "for i in range(0,5):\n",
        "    c[i]=c[i]*3\n",
        "for i in range(0,5):\n",
        "    print(c[i])"
      ]
    },
    {
      "cell_type": "code",
      "execution_count": null,
      "id": "528c7e5d-a216-4f79-a9d7-0e1e088f652d",
      "metadata": {
        "id": "528c7e5d-a216-4f79-a9d7-0e1e088f652d",
        "outputId": "2160c32f-ac85-41ca-f572-ad323f13ccb5"
      },
      "outputs": [
        {
          "name": "stdout",
          "output_type": "stream",
          "text": [
            "1\n",
            "2\n",
            "3\n",
            "4\n",
            "5\n"
          ]
        }
      ],
      "source": [
        "import numpy as np\n",
        "c=np.array([2,4,6,8,10])\n",
        "for i in range(0,5):\n",
        "    c[i]=c[i]/2\n",
        "for i in range(0,5):\n",
        "    print(c[i])"
      ]
    },
    {
      "cell_type": "code",
      "execution_count": null,
      "id": "9502b571-131d-40b8-9567-19cd1a266a48",
      "metadata": {
        "id": "9502b571-131d-40b8-9567-19cd1a266a48",
        "outputId": "29f2a619-05ad-4e5d-e37e-1855a10c58c4"
      },
      "outputs": [
        {
          "name": "stdout",
          "output_type": "stream",
          "text": [
            "5 4 3 2 1 "
          ]
        }
      ],
      "source": [
        "import numpy as np\n",
        "c=np.array([1,2,3,4,5])\n",
        "i=0\n",
        "j=4\n",
        "while(i<=j):\n",
        "    temp=c[i]\n",
        "    c[i]=c[j]\n",
        "    c[j]=temp\n",
        "    i=i+1\n",
        "    j=j-1\n",
        "\n",
        "for i in range(0,5):\n",
        "    print(c[i],end=' ')"
      ]
    },
    {
      "cell_type": "code",
      "execution_count": null,
      "id": "dbd81bf0-ee04-4c63-b3a9-9bb1cd0a88a4",
      "metadata": {
        "id": "dbd81bf0-ee04-4c63-b3a9-9bb1cd0a88a4",
        "outputId": "0f683161-0ca5-4287-924c-582c0db863ce"
      },
      "outputs": [
        {
          "name": "stdout",
          "output_type": "stream",
          "text": [
            "Maximum element is 1 and its count in array is 5\n",
            "0 5 7 8 9 "
          ]
        }
      ],
      "source": [
        "import numpy as np\n",
        "c=np.array([1,2,3,4,5,1,2,1,1,1])\n",
        "l=[]\n",
        "# list1=list(c)\n",
        "# print(list1)\n",
        "for i in range(1,6):\n",
        "    size=c.size\n",
        "    j=0\n",
        "    count=0\n",
        "    while(j<=size-1):\n",
        "        if(c[j]==i):\n",
        "            count=count+1\n",
        "        j=j+1\n",
        "    l.append(count)\n",
        "maxi=max(l)\n",
        "element=l.index(maxi)+1\n",
        "print(f\"Maximum element is {element} and its count in array is {maxi}\")\n",
        "size=c.size\n",
        "i=0\n",
        "while(i<size):\n",
        "    if(c[i]==element):\n",
        "        print(i,end=' ')\n",
        "    i=i+1\n",
        "\n",
        "\n",
        ""
      ]
    },
    {
      "cell_type": "code",
      "execution_count": null,
      "id": "9fe992b3-682a-4150-b928-f3264086f010",
      "metadata": {
        "id": "9fe992b3-682a-4150-b928-f3264086f010",
        "outputId": "87495622-9524-460b-957a-f64d79da5c1a"
      },
      "outputs": [
        {
          "name": "stdout",
          "output_type": "stream",
          "text": [
            "Maximum element is 1 and its count in array is 3\n",
            "0 1 2 "
          ]
        }
      ],
      "source": [
        "import numpy as np\n",
        "c=np.array([1,1,1,2,3,4,2,2,3,3])\n",
        "l=[]\n",
        "# list1=list(c)\n",
        "# print(list1)\n",
        "for i in range(1,6):\n",
        "    size=c.size\n",
        "    j=0\n",
        "    count=0\n",
        "    while(j<=size-1):\n",
        "        if(c[j]==i):\n",
        "            count=count+1\n",
        "        j=j+1\n",
        "    l.append(count)\n",
        "maxi=max(l)\n",
        "element=l.index(maxi)+1\n",
        "print(f\"Maximum element is {element} and its count in array is {maxi}\")\n",
        "size=c.size\n",
        "i=0\n",
        "while(i<size):\n",
        "    if(c[i]==element):\n",
        "        print(i,end=' ')\n",
        "    i=i+1"
      ]
    },
    {
      "cell_type": "code",
      "execution_count": null,
      "id": "61b873fe-a038-414e-a9d5-872757a2d51d",
      "metadata": {
        "id": "61b873fe-a038-414e-a9d5-872757a2d51d",
        "outputId": "ef5931c2-37ac-496b-9574-b57cd8c7623b"
      },
      "outputs": [
        {
          "name": "stdout",
          "output_type": "stream",
          "text": [
            "[ 10  20  30 100]\n",
            "20 50 80 \n",
            "\n",
            "[  70   80   90 3000]\n",
            "10 40 70 "
          ]
        }
      ],
      "source": [
        "import numpy as np\n",
        "matrix=np.array([[10,20,30,100],[40,50,60,2000],[70,80,90,3000]])\n",
        "size=matrix.shape[0]\n",
        "print(matrix[0])\n",
        "i=0\n",
        "for i in range(0,size):\n",
        "    print(matrix[i][1],end=' ')\n",
        "print(\"\\n\")\n",
        "print(matrix[2])\n",
        "for i in range(0,size):\n",
        "    print(matrix[i][0],end=' ')"
      ]
    },
    {
      "cell_type": "code",
      "execution_count": null,
      "id": "276b561f-bcd7-4f29-83ab-5bfe82fe98df",
      "metadata": {
        "id": "276b561f-bcd7-4f29-83ab-5bfe82fe98df",
        "outputId": "85109611-280a-4a40-b0ce-4e577890f892"
      },
      "outputs": [
        {
          "name": "stdout",
          "output_type": "stream",
          "text": [
            "[ 10.    13.75  17.5   21.25  25.    28.75  32.5   36.25  40.    43.75\n",
            "  47.5   51.25  55.    58.75  62.5   66.25  70.    73.75  77.5   81.25\n",
            "  85.    88.75  92.5   96.25 100.  ]\n",
            "1\n",
            "(25,)\n",
            "25\n",
            "200\n",
            "float64\n",
            "[[ 10.    13.75  17.5   21.25  25.  ]\n",
            " [ 28.75  32.5   36.25  40.    43.75]\n",
            " [ 47.5   51.25  55.    58.75  62.5 ]\n",
            " [ 66.25  70.    73.75  77.5   81.25]\n",
            " [ 85.    88.75  92.5   96.25 100.  ]]\n"
          ]
        }
      ],
      "source": [
        "import numpy as np\n",
        "import random\n",
        "l=[]\n",
        "# for i in range(1,26):\n",
        "#     r=random.randint(10,100)\n",
        "#     l.append(r)\n",
        "Kavish=np.linspace(10,100,25)\n",
        "print(Kavish)\n",
        "print(Kavish.ndim)\n",
        "sh=Kavish.shape\n",
        "print(sh)\n",
        "size=Kavish.size\n",
        "print(size)\n",
        "print(Kavish.nbytes)\n",
        "print(Kavish.dtype)\n",
        "print(Kavish.reshape(5,5))"
      ]
    },
    {
      "cell_type": "code",
      "execution_count": null,
      "id": "e39f1ca7-388d-46e5-a30d-ebe20bb05fc2",
      "metadata": {
        "id": "e39f1ca7-388d-46e5-a30d-ebe20bb05fc2",
        "outputId": "5d971414-8ccb-4326-b6ef-09be407bb248"
      },
      "outputs": [
        {
          "name": "stdout",
          "output_type": "stream",
          "text": [
            "43.333333333333336\n",
            "[10, 20, 30, 40, 50, 60, 70, 80, 90, 15, 20, 35]\n",
            "12\n",
            "75.0\n",
            "90\n",
            "10\n",
            "11\n",
            "[[10 20 30]\n",
            " [40 50 60]\n",
            " [70 80 90]\n",
            " [15 20 35]]\n"
          ]
        },
        {
          "ename": "ValueError",
          "evalue": "cannot reshape array of size 12 into shape (2,3)",
          "output_type": "error",
          "traceback": [
            "\u001b[1;31m---------------------------------------------------------------------------\u001b[0m",
            "\u001b[1;31mValueError\u001b[0m                                Traceback (most recent call last)",
            "Cell \u001b[1;32mIn[107], line 26\u001b[0m\n\u001b[0;32m     24\u001b[0m \u001b[38;5;28mprint\u001b[39m(ucs420_Kavish\u001b[38;5;241m.\u001b[39mreshape(\u001b[38;5;241m4\u001b[39m,\u001b[38;5;241m3\u001b[39m))\n\u001b[0;32m     25\u001b[0m reshaped_ucs420_Kavish\u001b[38;5;241m=\u001b[39mucs420_Kavish\u001b[38;5;241m.\u001b[39mreshape(\u001b[38;5;241m4\u001b[39m,\u001b[38;5;241m3\u001b[39m)\n\u001b[1;32m---> 26\u001b[0m \u001b[38;5;28mprint\u001b[39m(reshaped_ucs420_Kavish\u001b[38;5;241m.\u001b[39mreshape(\u001b[38;5;241m2\u001b[39m,\u001b[38;5;241m3\u001b[39m))\n",
            "\u001b[1;31mValueError\u001b[0m: cannot reshape array of size 12 into shape (2,3)"
          ]
        }
      ],
      "source": [
        "import numpy as np\n",
        "ucs420_Kavish=np.array([[10,20,30],[40,50,60],[70,80,90],[15,20,35]])\n",
        "print(ucs420_Kavish.sum()/12)\n",
        "l=[]\n",
        "for i in range(ucs420_Kavish.shape[0]):\n",
        "    for j in range(ucs420_Kavish.shape[1]):\n",
        "        l.append(ucs420_Kavish[i][j])\n",
        "print(l)\n",
        "l.sort\n",
        "size=len(l)\n",
        "print(size)\n",
        "if(size%2!=0):\n",
        "    print(l[int(size/2)])\n",
        "else:\n",
        "    index=int(size/2)\n",
        "    print((l[index] + l[index+1])/2)\n",
        "print(max(l))\n",
        "print(min(l))\n",
        "count=0\n",
        "for i in range(0,size-1):\n",
        "    if(l[i]!=l[i+1]):\n",
        "        count=count+1\n",
        "print(count)\n",
        "print(ucs420_Kavish.reshape(4,3))\n",
        "reshaped_ucs420_Kavish=ucs420_Kavish.reshape(4,3)\n",
        "print(reshaped_ucs420_Kavish.reshape(2,3))"
      ]
    },
    {
      "cell_type": "code",
      "execution_count": null,
      "id": "d50aac06-c286-46d5-a4bc-8df85491112e",
      "metadata": {
        "id": "d50aac06-c286-46d5-a4bc-8df85491112e"
      },
      "outputs": [],
      "source": []
    }
  ],
  "metadata": {
    "kernelspec": {
      "display_name": "Python 3 (ipykernel)",
      "language": "python",
      "name": "python3"
    },
    "language_info": {
      "codemirror_mode": {
        "name": "ipython",
        "version": 3
      },
      "file_extension": ".py",
      "mimetype": "text/x-python",
      "name": "python",
      "nbconvert_exporter": "python",
      "pygments_lexer": "ipython3",
      "version": "3.11.7"
    },
    "colab": {
      "provenance": [],
      "include_colab_link": true
    }
  },
  "nbformat": 4,
  "nbformat_minor": 5
}