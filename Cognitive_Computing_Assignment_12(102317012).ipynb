{
  "nbformat": 4,
  "nbformat_minor": 0,
  "metadata": {
    "colab": {
      "provenance": [],
      "authorship_tag": "ABX9TyODU3l9j1Fqy6XbDfBKMbc2",
      "include_colab_link": true
    },
    "kernelspec": {
      "name": "python3",
      "display_name": "Python 3"
    },
    "language_info": {
      "name": "python"
    }
  },
  "cells": [
    {
      "cell_type": "markdown",
      "metadata": {
        "id": "view-in-github",
        "colab_type": "text"
      },
      "source": [
        "<a href=\"https://colab.research.google.com/github/Kavish1504/Cognitivie-Computing-Assignments/blob/main/Cognitive_Computing_Assignment_12(102317012).ipynb\" target=\"_parent\"><img src=\"https://colab.research.google.com/assets/colab-badge.svg\" alt=\"Open In Colab\"/></a>"
      ]
    },
    {
      "cell_type": "markdown",
      "source": [
        "Name - Kavish Gupta\n",
        "\n",
        "Subgroup-2Q11\n",
        "\n",
        "Roll No.-102317012\n",
        "\n",
        "Assignment-12"
      ],
      "metadata": {
        "id": "3Dulyw3PbAoL"
      }
    },
    {
      "cell_type": "code",
      "source": [
        "from chatterbot import ChatBot\n",
        "from chatterbot.trainers import ListTrainer\n",
        "\n",
        "chatbot=ChatBot(\n",
        "    'HealthBot',\n",
        "    logic_adapters=[\n",
        "        'chatterbot.logic.BestMatch'\n",
        "    ],\n",
        "    read_only=True\n",
        ")\n",
        "conversation=[\n",
        "    \"Hi\",\n",
        "    \"Hello! I am HealthBot. How can I assist you today?\",\n",
        "    \"Hello\",\n",
        "    \"Hi! Do you have a health-related question?\",\n",
        "    \"I have a headache\",\n",
        "    \"You should rest, stay hydrated, and take a mild pain reliever if needed.\",\n",
        "    \"What should I do if I have a fever?\",\n",
        "    \"Drink plenty of fluids and rest. If the fever persists, please consult a doctor.\",\n",
        "    \"I feel dizzy\",\n",
        "    \"Sit down, breathe deeply, and drink water. If it continues, seek medical help.\",\n",
        "    \"What should I eat for a cold?\",\n",
        "    \"Warm fluids, soups, citrus fruits, and light meals help during a cold.\",\n",
        "    \"How to stay healthy?\",\n",
        "    \"Eat balanced meals, exercise regularly, stay hydrated, and get enough sleep.\",\n",
        "    \"What should I do in case of a cut?\",\n",
        "    \"Clean the wound with water, apply antiseptic, and cover it with a clean bandage.\",\n",
        "    \"How much water should I drink daily?\",\n",
        "    \"Generally, 2 to 3 liters per day is recommended, but it varies based on your activity.\",\n",
        "    \"Thank you\",\n",
        "    \"You're welcome! Take care.\",\n",
        "    \"Bye\",\n",
        "    \"Goodbye! Stay healthy.\"\n",
        "]\n",
        "trainer=ListTrainer(chatbot)\n",
        "trainer.train(conversation)\n",
        "print(\"HealthBot is ready! Type 'bye' to exit.\")\n",
        "while True:\n",
        "    query = input(\"You: \")\n",
        "    if query.lower()=='bye':\n",
        "        print(\"HealthBot: Goodbye! Stay healthy.\")\n",
        "        break\n",
        "    response=chatbot.get_response(query)\n",
        "    print(\"HealthBot:\", response)\n"
      ],
      "metadata": {
        "colab": {
          "base_uri": "https://localhost:8080/"
        },
        "id": "dZT8xoi2XdO7",
        "outputId": "52841ea9-44b3-4b71-93eb-04cb63a9a1cf"
      },
      "execution_count": 6,
      "outputs": [
        {
          "output_type": "stream",
          "name": "stderr",
          "text": [
            "List Trainer: 22it [00:00, 887.25it/s]\n"
          ]
        },
        {
          "output_type": "stream",
          "name": "stdout",
          "text": [
            "HealthBot is ready! Type 'bye' to exit.\n",
            "You: Hi\n",
            "HealthBot: Hello! I am HealthBot. How can I assist you today?\n",
            "You: Hello\n",
            "HealthBot: Hi! Do you have a health-related question?\n",
            "You: I have a headache\n",
            "HealthBot: You should rest, stay hydrated, and take a mild pain reliever if needed.\n",
            "You: What should I do if I have a fever?\n",
            "HealthBot: Drink plenty of fluids and rest. If the fever persists, please consult a doctor.\n",
            "You: I feel dizzy\n",
            "HealthBot: Sit down, breathe deeply, and drink water. If it continues, seek medical help.\n",
            "You: What should I eat for a cold?\n",
            "HealthBot: Warm fluids, soups, citrus fruits, and light meals help during a cold.\n",
            "You: How to stay healthy?\n",
            "HealthBot: Eat balanced meals, exercise regularly, stay hydrated, and get enough sleep.\n",
            "You: What should I do in case of a cut?\n",
            "HealthBot: Clean the wound with water, apply antiseptic, and cover it with a clean bandage.\n",
            "You: How much water should I drink daily?\n",
            "HealthBot: Generally, 2 to 3 liters per day is recommended, but it varies based on your activity.\n",
            "You: Thank you\n",
            "HealthBot: You're welcome! Take care.\n",
            "You: Bye\n",
            "HealthBot: Goodbye! Stay healthy.\n"
          ]
        }
      ]
    }
  ]
}