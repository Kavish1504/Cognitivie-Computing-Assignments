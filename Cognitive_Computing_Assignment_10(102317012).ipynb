{
  "nbformat": 4,
  "nbformat_minor": 0,
  "metadata": {
    "colab": {
      "provenance": [],
      "authorship_tag": "ABX9TyPZrsQv5+34C6oHzLdiYcpz",
      "include_colab_link": true
    },
    "kernelspec": {
      "name": "python3",
      "display_name": "Python 3"
    },
    "language_info": {
      "name": "python"
    }
  },
  "cells": [
    {
      "cell_type": "markdown",
      "metadata": {
        "id": "view-in-github",
        "colab_type": "text"
      },
      "source": [
        "<a href=\"https://colab.research.google.com/github/Kavish1504/Cognitivie-Computing-Assignments/blob/main/Cognitive_Computing_Assignment_10(102317012).ipynb\" target=\"_parent\"><img src=\"https://colab.research.google.com/assets/colab-badge.svg\" alt=\"Open In Colab\"/></a>"
      ]
    },
    {
      "cell_type": "markdown",
      "source": [
        "**Name-Kavish Gupta**\n",
        "\n",
        "**Roll No.-102317012**\n",
        "\n",
        "**Subgroup-2Q11**\n",
        "\n",
        "**Assignment-10**"
      ],
      "metadata": {
        "id": "3PH9FNsMv4MH"
      }
    },
    {
      "cell_type": "markdown",
      "source": [
        "Q1. Write a unique paragraph (5-6 sentences) about your favorite topic (e.g., sports,\n",
        "technology, food, books, etc.).\n",
        "1. Convert text to lowercase and remove punctuaƟon using re.\n",
        "2. Tokenize the text into words and sentences.\n",
        "3. Split using split() and word_tokenize() and compare how Python split and NLTK’s\n",
        "word_tokenize() differ.\n",
        "4. Remove stopwords (using NLTK's stopwords list).\n",
        "5. Display word frequency distribution (excluding stopwords)."
      ],
      "metadata": {
        "id": "nVBfXP4ivCu5"
      }
    },
    {
      "cell_type": "code",
      "execution_count": null,
      "metadata": {
        "colab": {
          "base_uri": "https://localhost:8080/"
        },
        "id": "Oqku9xiL3rxz",
        "outputId": "b3780999-168c-4eaf-d403-58b6e1e2ddb9"
      },
      "outputs": [
        {
          "output_type": "stream",
          "name": "stdout",
          "text": [
            "Technology is evolving at a rapid pace transforming the way we live work and communicate \n",
            "Artificial Intelligence is at the heart of many modern innovations From voice assistants to selfdriving cars \n",
            "the applications are limitless Cloud computing and big data are enabling faster processing and better insights \n",
            "The future promises even more revolutionary advancements in this space\n",
            "['Technology', 'is', 'evolving', 'at', 'a', 'rapid', 'pace', 'transforming', 'the', 'way', 'we', 'live', 'work', 'and', 'communicate', 'Artificial', 'Intelligence', 'is', 'at', 'the', 'heart', 'of', 'many', 'modern', 'innovations', 'From', 'voice', 'assistants', 'to', 'selfdriving', 'cars', 'the', 'applications', 'are', 'limitless', 'Cloud', 'computing', 'and', 'big', 'data', 'are', 'enabling', 'faster', 'processing', 'and', 'better', 'insights', 'The', 'future', 'promises', 'even', 'more', 'revolutionary', 'advancements', 'in', 'this', 'space']\n",
            "['Technology', 'is', 'evolving', 'at', 'a', 'rapid', 'pace', ',', 'transforming', 'the', 'way', 'we', 'live', ',', 'work', ',', 'and', 'communicate', '.', 'Artificial', 'Intelligence', 'is', 'at', 'the', 'heart', 'of', 'many', 'modern', 'innovations', '.', 'From', 'voice', 'assistants', 'to', 'self-driving', 'cars', ',', 'the', 'applications', 'are', 'limitless', '.', 'Cloud', 'computing', 'and', 'big', 'data', 'are', 'enabling', 'faster', 'processing', 'and', 'better', 'insights', '.', 'The', 'future', 'promises', 'even', 'more', 'revolutionary', 'advancements', 'in', 'this', 'space', '.']\n",
            "['Technology is evolving at a rapid pace, transforming the way we live, work, and communicate.', 'Artificial Intelligence is at the heart of many modern innovations.', 'From voice assistants to self-driving cars, \\nthe applications are limitless.', 'Cloud computing and big data are enabling faster processing and better insights.', 'The future promises even more revolutionary advancements in this space.']\n",
            "['Technology', 'evolving', 'rapid', 'pace', ',', 'transforming', 'way', 'live', ',', 'work', ',', 'communicate', '.', 'Artificial', 'Intelligence', 'heart', 'many', 'modern', 'innovations', '.', 'From', 'voice', 'assistants', 'self-driving', 'cars', ',', 'applications', 'limitless', '.', 'Cloud', 'computing', 'big', 'data', 'enabling', 'faster', 'processing', 'better', 'insights', '.', 'The', 'future', 'promises', 'even', 'revolutionary', 'advancements', 'space', '.']\n",
            "Technology: 1\n",
            "evolving: 1\n",
            "rapid: 1\n",
            "pace: 1\n",
            ",: 4\n",
            "transforming: 1\n",
            "way: 1\n",
            "live: 1\n",
            "work: 1\n",
            "communicate: 1\n",
            ".: 5\n",
            "Artificial: 1\n",
            "Intelligence: 1\n",
            "heart: 1\n",
            "many: 1\n",
            "modern: 1\n",
            "innovations: 1\n",
            "From: 1\n",
            "voice: 1\n",
            "assistants: 1\n",
            "self-driving: 1\n",
            "cars: 1\n",
            "applications: 1\n",
            "limitless: 1\n",
            "Cloud: 1\n",
            "computing: 1\n",
            "big: 1\n",
            "data: 1\n",
            "enabling: 1\n",
            "faster: 1\n",
            "processing: 1\n",
            "better: 1\n",
            "insights: 1\n",
            "The: 1\n",
            "future: 1\n",
            "promises: 1\n",
            "even: 1\n",
            "revolutionary: 1\n",
            "advancements: 1\n",
            "space: 1\n"
          ]
        },
        {
          "output_type": "stream",
          "name": "stderr",
          "text": [
            "[nltk_data] Downloading package punkt to /root/nltk_data...\n",
            "[nltk_data]   Package punkt is already up-to-date!\n",
            "[nltk_data] Downloading package stopwords to /root/nltk_data...\n",
            "[nltk_data]   Package stopwords is already up-to-date!\n",
            "[nltk_data] Downloading package punkt_tab to /root/nltk_data...\n",
            "[nltk_data]   Package punkt_tab is already up-to-date!\n"
          ]
        }
      ],
      "source": [
        "import re\n",
        "import nltk\n",
        "from nltk.corpus import stopwords\n",
        "from nltk.tokenize import word_tokenize,sent_tokenize\n",
        "from nltk.probability import FreqDist\n",
        "nltk.download('punkt')\n",
        "nltk.download('stopwords')\n",
        "nltk.download('punkt_tab')\n",
        "\n",
        "text = \"\"\"Technology is evolving at a rapid pace, transforming the way we live, work, and communicate.\n",
        "Artificial Intelligence is at the heart of many modern innovations. From voice assistants to self-driving cars,\n",
        "the applications are limitless. Cloud computing and big data are enabling faster processing and better insights.\n",
        "The future promises even more revolutionary advancements in this space.\"\"\"\n",
        "\n",
        "clean_text=text.lower()\n",
        "clean_text=re.sub(r'[^\\w\\s]','',text)\n",
        "print(clean_text)\n",
        "words=word_tokenize(text)\n",
        "sentence=sent_tokenize(text)\n",
        "\n",
        "split_words=clean_text.split()\n",
        "print(split_words)\n",
        "print(words)\n",
        "print(sentence)\n",
        "\n",
        "stop_words=set(stopwords.words('english'))\n",
        "filtered_words=[word for word in words if word not in stop_words]\n",
        "print(filtered_words)\n",
        "freq_dist = FreqDist(filtered_words)\n",
        "for word, freq in freq_dist.items():\n",
        "    print(f\"{word}: {freq}\")\n",
        "\n"
      ]
    },
    {
      "cell_type": "markdown",
      "source": [
        "Q2. Using the same paragraph from Q1:\n",
        "1. Extract all words with only alphabets using re.findall()\n",
        "2. Remove stop words using NLTK’s stopword list\n",
        "3. Perform stemming with PorterStemmer\n",
        "4. Perform lemmatization with WordNetLemmatizer\n",
        "5. Compare the stemmed and lemmatized outputs and explain when you’d prefer one over\n",
        "the other."
      ],
      "metadata": {
        "id": "WN6Fh3gUvIhV"
      }
    },
    {
      "cell_type": "code",
      "source": [
        "import re\n",
        "import nltk\n",
        "from nltk.corpus import stopwords\n",
        "from nltk.tokenize import word_tokenize,sent_tokenize\n",
        "from nltk.probability import FreqDist\n",
        "from nltk.stem import PorterStemmer,WordNetLemmatizer\n",
        "nltk.download('punkt')\n",
        "nltk.download('stopwords')\n",
        "nltk.download('punkt_tab')\n",
        "nltk.download('wordnet')\n",
        "\n",
        "text = \"\"\"Technology is evolving at a rapid pace, transforming the way we live, work, and communicate.\n",
        "Artificial Intelligence is at the heart of many modern innovations. From voice assistants to self-driving cars,\n",
        "the applications are limitless. Cloud computing and big data are enabling faster processing and better insights.\n",
        "The future promises even more revolutionary advancements in this space.\"\"\"\n",
        "\n",
        "alphabets=re.findall(r'\\b[a-zA-Z]+\\b',text)\n",
        "print(alphabets)\n",
        "\n",
        "stop_words=set(stopwords.words('english'))\n",
        "filtered_words=[word for word in words if word not in stop_words]\n",
        "porter=PorterStemmer()\n",
        "stem_word=[porter.stem(word) for word in filtered_words]\n",
        "print(stem_word)\n",
        "\n",
        "lema=WordNetLemmatizer()\n",
        "lem_words=[lema.lemmatize(word) for word in filtered_words]\n",
        "print(lem_words)\n",
        "for i in range(min(10,len(filtered_words))):\n",
        "    print(f\"Original: {filtered_words[i]}, Stemmed: {stem_word[i]}, Lemmatized: {lem_words[i]}\")\n"
      ],
      "metadata": {
        "colab": {
          "base_uri": "https://localhost:8080/"
        },
        "id": "3yLj1fVS54ml",
        "outputId": "807bc33b-3127-4ed5-df7f-85a84d179412"
      },
      "execution_count": null,
      "outputs": [
        {
          "output_type": "stream",
          "name": "stdout",
          "text": [
            "['Technology', 'is', 'evolving', 'at', 'a', 'rapid', 'pace', 'transforming', 'the', 'way', 'we', 'live', 'work', 'and', 'communicate', 'Artificial', 'Intelligence', 'is', 'at', 'the', 'heart', 'of', 'many', 'modern', 'innovations', 'From', 'voice', 'assistants', 'to', 'self', 'driving', 'cars', 'the', 'applications', 'are', 'limitless', 'Cloud', 'computing', 'and', 'big', 'data', 'are', 'enabling', 'faster', 'processing', 'and', 'better', 'insights', 'The', 'future', 'promises', 'even', 'more', 'revolutionary', 'advancements', 'in', 'this', 'space']\n",
            "['technolog', 'evolv', 'rapid', 'pace', ',', 'transform', 'way', 'live', ',', 'work', ',', 'commun', '.', 'artifici', 'intellig', 'heart', 'mani', 'modern', 'innov', '.', 'from', 'voic', 'assist', 'self-driv', 'car', ',', 'applic', 'limitless', '.', 'cloud', 'comput', 'big', 'data', 'enabl', 'faster', 'process', 'better', 'insight', '.', 'the', 'futur', 'promis', 'even', 'revolutionari', 'advanc', 'space', '.']\n",
            "['Technology', 'evolving', 'rapid', 'pace', ',', 'transforming', 'way', 'live', ',', 'work', ',', 'communicate', '.', 'Artificial', 'Intelligence', 'heart', 'many', 'modern', 'innovation', '.', 'From', 'voice', 'assistant', 'self-driving', 'car', ',', 'application', 'limitless', '.', 'Cloud', 'computing', 'big', 'data', 'enabling', 'faster', 'processing', 'better', 'insight', '.', 'The', 'future', 'promise', 'even', 'revolutionary', 'advancement', 'space', '.']\n",
            "Original: Technology, Stemmed: technolog, Lemmatized: Technology\n",
            "Original: evolving, Stemmed: evolv, Lemmatized: evolving\n",
            "Original: rapid, Stemmed: rapid, Lemmatized: rapid\n",
            "Original: pace, Stemmed: pace, Lemmatized: pace\n",
            "Original: ,, Stemmed: ,, Lemmatized: ,\n",
            "Original: transforming, Stemmed: transform, Lemmatized: transforming\n",
            "Original: way, Stemmed: way, Lemmatized: way\n",
            "Original: live, Stemmed: live, Lemmatized: live\n",
            "Original: ,, Stemmed: ,, Lemmatized: ,\n",
            "Original: work, Stemmed: work, Lemmatized: work\n"
          ]
        },
        {
          "output_type": "stream",
          "name": "stderr",
          "text": [
            "[nltk_data] Downloading package punkt to /root/nltk_data...\n",
            "[nltk_data]   Package punkt is already up-to-date!\n",
            "[nltk_data] Downloading package stopwords to /root/nltk_data...\n",
            "[nltk_data]   Package stopwords is already up-to-date!\n",
            "[nltk_data] Downloading package punkt_tab to /root/nltk_data...\n",
            "[nltk_data]   Package punkt_tab is already up-to-date!\n",
            "[nltk_data] Downloading package wordnet to /root/nltk_data...\n",
            "[nltk_data]   Package wordnet is already up-to-date!\n"
          ]
        }
      ]
    },
    {
      "cell_type": "markdown",
      "source": [
        "Q3. Choose 3 short texts of your own (e.g., different news headlines, product reviews).\n",
        "1. Use CountVectorizer to generate the Bag of Words representation.\n",
        "2. Use TfidfVectorizer to compute TF-IDF scores.\n",
        "3. Print and interpret the top 3 keywords from each text using TF-IDF."
      ],
      "metadata": {
        "id": "8P1G4uKcvQGA"
      }
    },
    {
      "cell_type": "code",
      "source": [
        "from sklearn.feature_extraction.text import CountVectorizer, TfidfVectorizer\n",
        "import numpy as np\n",
        "\n",
        "texts = [\n",
        "    \"The new phone has an amazing camera and battery life.\",\n",
        "    \"I love the user interface and design of this phone.\",\n",
        "    \"Battery drains quickly, not satisfied with the product.\"\n",
        "]\n",
        "count_vector=CountVectorizer()\n",
        "bow_matrix=count_vector.fit_transform(texts)\n",
        "print(f\"Bag of Words -> {count_vector.get_feature_names_out()}\")\n",
        "\n",
        "tfidf=TfidfVectorizer()\n",
        "tfidfmatrix=tfidf.fit_transform(texts)\n",
        "print(f\"TF-IDF -> {tfidf.get_feature_names_out()}\")\n",
        "print(tfidfmatrix.toarray())\n",
        "for i,row in enumerate(tfidfmatrix.toarray()):\n",
        "  top_idx=row.argsort()[-3:][::-1]\n",
        "  keywords=[(tfidf.get_feature_names_out()[idx],row[idx]) for idx in top_idx]\n",
        "  print(keywords)"
      ],
      "metadata": {
        "colab": {
          "base_uri": "https://localhost:8080/"
        },
        "id": "42pMKrzZ7jox",
        "outputId": "fef7a490-3b80-4e66-f658-4b195a3938cf"
      },
      "execution_count": null,
      "outputs": [
        {
          "output_type": "stream",
          "name": "stdout",
          "text": [
            "Bag of Words -> ['amazing' 'an' 'and' 'battery' 'camera' 'design' 'drains' 'has'\n",
            " 'interface' 'life' 'love' 'new' 'not' 'of' 'phone' 'product' 'quickly'\n",
            " 'satisfied' 'the' 'this' 'user' 'with']\n",
            "TF-IDF -> ['amazing' 'an' 'and' 'battery' 'camera' 'design' 'drains' 'has'\n",
            " 'interface' 'life' 'love' 'new' 'not' 'of' 'phone' 'product' 'quickly'\n",
            " 'satisfied' 'the' 'this' 'user' 'with']\n",
            "[[0.35171117 0.35171117 0.26748541 0.26748541 0.35171117 0.\n",
            "  0.         0.35171117 0.         0.35171117 0.         0.35171117\n",
            "  0.         0.         0.26748541 0.         0.         0.\n",
            "  0.20772628 0.         0.         0.        ]\n",
            " [0.         0.         0.27760064 0.         0.         0.36501149\n",
            "  0.         0.         0.36501149 0.         0.36501149 0.\n",
            "  0.         0.36501149 0.27760064 0.         0.         0.\n",
            "  0.21558166 0.36501149 0.36501149 0.        ]\n",
            " [0.         0.         0.         0.28895767 0.         0.\n",
            "  0.37994462 0.         0.         0.         0.         0.\n",
            "  0.37994462 0.         0.         0.37994462 0.37994462 0.37994462\n",
            "  0.22440141 0.         0.         0.37994462]]\n",
            "[('an', np.float64(0.35171116554385984)), ('amazing', np.float64(0.35171116554385984)), ('has', np.float64(0.35171116554385984))]\n",
            "[('user', np.float64(0.36501148642845177)), ('this', np.float64(0.36501148642845177)), ('design', np.float64(0.36501148642845177))]\n",
            "[('with', np.float64(0.3799446164315741)), ('quickly', np.float64(0.3799446164315741)), ('satisfied', np.float64(0.3799446164315741))]\n"
          ]
        }
      ]
    },
    {
      "cell_type": "markdown",
      "source": [
        "Q4. Write 2 short texts (4–6 lines each) describing two different technologies (e.g., AI vs\n",
        "Blockchain).\n",
        "1. Preprocess and tokenize both texts.\n",
        "2. Calculate:\n",
        "  \n",
        "  a. Jaccard Similarity using sets\n",
        "\n",
        "  b. Cosine Similarity using TfidfVectorizer + cosine_similarity()\n",
        "  \n",
        "  c. Analyze which similarity metric gives beƩer insights in your case."
      ],
      "metadata": {
        "id": "TAzMtrUhvVMQ"
      }
    },
    {
      "cell_type": "code",
      "source": [
        "import re\n",
        "import nltk\n",
        "from nltk.corpus import stopwords\n",
        "from nltk.tokenize import word_tokenize,sent_tokenize\n",
        "from nltk.probability import FreqDist\n",
        "from nltk.stem import PorterStemmer,WordNetLemmatizer\n",
        "from sklearn.feature_extraction.text import CountVectorizer, TfidfVectorizer\n",
        "from sklearn.metrics.pairwise import cosine_similarity\n",
        "text1 = \"Artificial Intelligence enables machines to learn from data and perform tasks that require human intelligence.\"\n",
        "text2 = \"Blockchain is a decentralized technology that ensures secure and transparent transactions using distributed ledgers.\"\n",
        "stop_words=set(stopwords.words('english'))\n",
        "def preprocess(text):\n",
        "  return [word for word in word_tokenize(text) if word.isalpha() and word not in stop_words]\n",
        "\n",
        "tokens1=set(preprocess(text1))\n",
        "tokens2=set(preprocess(text2))\n",
        "intersection=tokens1.intersection(tokens2)\n",
        "union=tokens1.union(tokens2)\n",
        "jaccard_similiarity=len(intersection)/len(union)\n",
        "print(f\"Jaccard Similarity is {jaccard_similiarity}\")\n",
        "\n",
        "tfidf=TfidfVectorizer()\n",
        "tfidfmatrix=tfidf.fit_transform([text1,text2])\n",
        "cos_sim=cosine_similarity(tfidfmatrix[0:1],tfidfmatrix[1:2])[0][0]\n",
        "print(f\"Cosine Similarity is {cos_sim}\")\n"
      ],
      "metadata": {
        "colab": {
          "base_uri": "https://localhost:8080/"
        },
        "id": "yzy59FVQ-fkv",
        "outputId": "1d096ac5-fb3c-405a-af22-0a2957737440"
      },
      "execution_count": null,
      "outputs": [
        {
          "output_type": "stream",
          "name": "stdout",
          "text": [
            "Jaccard Similarity is 0.0\n",
            "Cosine Similarity is 0.07300354822013207\n"
          ]
        }
      ]
    },
    {
      "cell_type": "markdown",
      "source": [
        "Q5. Write a short review for a product or service.\n",
        "1. Use TextBlob or VADER to find polarity & subjectivity for each review.\n",
        "2. Classify reviews into Positive / Negative / Neutral.\n",
        "3. Create a word cloud using the wordcloud library for all positive reviews."
      ],
      "metadata": {
        "id": "Q_G01ozKvdQi"
      }
    },
    {
      "cell_type": "code",
      "source": [
        "from wordcloud import WordCloud\n",
        "from textblob import TextBlob\n",
        "import matplotlib.pyplot as plt\n",
        "reviews = [\n",
        "    \"I love this phone! The camera is superb and performance is smooth.\",\n",
        "    \"Not impressed. The battery life is terrible.\",\n",
        "    \"It's okay, nothing special but does the job.\"\n",
        "]\n",
        "for review in reviews:\n",
        "  blob=TextBlob(review)\n",
        "  polarity=blob.sentiment.polarity;\n",
        "  subjectivity=blob.sentiment.subjectivity\n",
        "  if(polarity>0):\n",
        "      print(\"Positive\")\n",
        "  elif(polarity<0):\n",
        "      print(\"Negative\")\n",
        "  else:\n",
        "      print(\"Neutral\")\n",
        "\n",
        "  print(f\"Review :{review}\")\n",
        "  print(f\"Subjectivity:{subjectivity}\")\n",
        "\n",
        "positive_reviews = \" \".join([r for r in reviews if TextBlob(r).sentiment.polarity>0])\n",
        "wordcloud=WordCloud().generate(positive_reviews)\n",
        "plt.figure()\n",
        "plt.imshow(wordcloud,interpolation='bilinear')\n",
        "plt.axis(\"off\")\n",
        "plt.title(\"Word Cloud - Positive Reviews\")\n",
        "plt.show()\n"
      ],
      "metadata": {
        "colab": {
          "base_uri": "https://localhost:8080/",
          "height": 463
        },
        "id": "219nS-PMJs3E",
        "outputId": "d837cd88-4052-42f1-f10e-4bd8551eb85e"
      },
      "execution_count": null,
      "outputs": [
        {
          "output_type": "stream",
          "name": "stdout",
          "text": [
            "Positive\n",
            "Review :I love this phone! The camera is superb and performance is smooth.\n",
            "Subjectivity:0.7000000000000001\n",
            "Negative\n",
            "Review :Not impressed. The battery life is terrible.\n",
            "Subjectivity:1.0\n",
            "Positive\n",
            "Review :It's okay, nothing special but does the job.\n",
            "Subjectivity:0.5357142857142857\n"
          ]
        },
        {
          "output_type": "display_data",
          "data": {
            "text/plain": [
              "<Figure size 640x480 with 1 Axes>"
            ],
            "image/png": "[encoded data removed]"
          },
          "metadata": {}
        }
      ]
    },
    {
      "cell_type": "markdown",
      "source": [
        "Q6. Choose your own paragraph (~100 words) as training data.\n",
        "1. Tokenize text using Tokenizer() from keras.preprocessing.text\n",
        "2. Create input sequences and build a simple LSTM or Dense model\n",
        "3. Train the model and generate 2–3 new lines of text starting from any seed word you\n",
        "provide."
      ],
      "metadata": {
        "id": "lUEoaDyjvjxj"
      }
    },
    {
      "cell_type": "code",
      "source": [
        "from tensorflow.keras.preprocessing.text import Tokenizer\n",
        "from tensorflow.keras.utils import pad_sequences\n",
        "from tensorflow.keras.models import Sequential\n",
        "from tensorflow.keras.layers import Embedding, LSTM, Dense, Dropout\n",
        "from tensorflow.keras.callbacks import EarlyStopping\n",
        "import numpy as np\n",
        "\n",
        "paragraph = \"\"\"Artificial Intelligence is changing the future of every industry and every human being.\n",
        "It has acted as the main driver of emerging technologies like big data, robotics and IoT.\n",
        "With tools like ChatGPT and deep learning, machines now perform creative tasks like writing, designing and even coding.\n",
        "AI systems can process vast amounts of data and identify patterns that humans might miss.\n",
        "The development of neural networks has enabled significant breakthroughs in image recognition, natural language processing, and game playing.\n",
        "Despite concerns about job displacement, AI is creating new opportunities and transforming existing roles.\n",
        "Ethical considerations in AI development include privacy, bias, transparency, and ensuring systems align with human values.\"\"\"\n",
        "\n",
        "tokenizer = Tokenizer()\n",
        "tokenizer.fit_on_texts([paragraph])\n",
        "total_words = len(tokenizer.word_index) + 1\n",
        "\n",
        "input_sequences = []\n",
        "for i in range(1, len(paragraph.split())):\n",
        "    n_gram_sequence = paragraph.lower().split()[:i+1]\n",
        "    input_sequences.append(n_gram_sequence)\n",
        "\n",
        "tokenized_sequences = []\n",
        "for seq in input_sequences:\n",
        "    token_list = tokenizer.texts_to_sequences([' '.join(seq)])[0]\n",
        "    if token_list:\n",
        "        tokenized_sequences.append(token_list)\n",
        "\n",
        "max_seq_len = max([len(seq) for seq in tokenized_sequences])\n",
        "input_sequences = pad_sequences(tokenized_sequences, maxlen=max_seq_len, padding='pre')\n",
        "\n",
        "xs = input_sequences[:, :-1]\n",
        "labels = input_sequences[:, -1]\n",
        "\n",
        "ys = np.zeros((len(labels), total_words))\n",
        "for i, label in enumerate(labels):\n",
        "    ys[i, label] = 1\n",
        "\n",
        "model = Sequential()\n",
        "model.add(Embedding(total_words, 64, input_length=max_seq_len - 1))\n",
        "model.add(LSTM(128, return_sequences=True))\n",
        "model.add(Dropout(0.2))\n",
        "model.add(LSTM(128))\n",
        "model.add(Dropout(0.2))\n",
        "model.add(Dense(total_words, activation='softmax'))\n",
        "\n",
        "model.compile(loss='categorical_crossentropy', optimizer='adam', metrics=['accuracy'])\n",
        "\n",
        "early_stopping = EarlyStopping(monitor='loss', patience=10, restore_best_weights=True)\n",
        "\n",
        "model.fit(xs, ys, epochs=50, verbose=1, callbacks=[early_stopping])\n",
        "\n",
        "def generate_text(seed_text, next_words=5):\n",
        "    for _ in range(next_words):\n",
        "        token_list = tokenizer.texts_to_sequences([seed_text.lower()])[0]\n",
        "        padded_token_list = pad_sequences([token_list], maxlen=max_seq_len - 1, padding='pre')\n",
        "        predicted_probs = model.predict(padded_token_list, verbose=0)[0]\n",
        "        top_indices = predicted_probs.argsort()[-3:][::-1]\n",
        "        selected_index = np.random.choice(top_indices, p=predicted_probs[top_indices]/np.sum(predicted_probs[top_indices]))\n",
        "        for word, idx in tokenizer.word_index.items():\n",
        "            if idx == selected_index:\n",
        "                output_word = word\n",
        "                break\n",
        "        seed_text += \" \" + output_word\n",
        "    return seed_text\n",
        "\n",
        "print(\"Generated from 'Artificial':\")\n",
        "print(generate_text(\"Artificial\", next_words=7))\n",
        "print(\"\\nGenerated from 'Intelligence':\")\n",
        "print(generate_text(\"Intelligence\", next_words=7))\n",
        "print(\"\\nGenerated from 'Neural networks':\")\n",
        "print(generate_text(\"Neural networks\", next_words=7))"
      ],
      "metadata": {
        "id": "4LsbdJazNQCY",
        "colab": {
          "base_uri": "https://localhost:8080/"
        },
        "outputId": "f035474f-dbf8-4dff-b54e-df01875bb74b"
      },
      "execution_count": 18,
      "outputs": [
        {
          "output_type": "stream",
          "name": "stdout",
          "text": [
            "Epoch 1/50\n",
            "\u001b[1m4/4\u001b[0m \u001b[32m━━━━━━━━━━━━━━━━━━━━\u001b[0m\u001b[37m\u001b[0m \u001b[1m8s\u001b[0m 434ms/step - accuracy: 0.0162 - loss: 4.4550\n",
            "Epoch 2/50\n",
            "\u001b[1m4/4\u001b[0m \u001b[32m━━━━━━━━━━━━━━━━━━━━\u001b[0m\u001b[37m\u001b[0m \u001b[1m1s\u001b[0m 263ms/step - accuracy: 0.0559 - loss: 4.4436\n",
            "Epoch 3/50\n",
            "\u001b[1m4/4\u001b[0m \u001b[32m━━━━━━━━━━━━━━━━━━━━\u001b[0m\u001b[37m\u001b[0m \u001b[1m1s\u001b[0m 259ms/step - accuracy: 0.0564 - loss: 4.4102\n",
            "Epoch 4/50\n",
            "\u001b[1m4/4\u001b[0m \u001b[32m━━━━━━━━━━━━━━━━━━━━\u001b[0m\u001b[37m\u001b[0m \u001b[1m1s\u001b[0m 263ms/step - accuracy: 0.0449 - loss: 4.3585\n",
            "Epoch 5/50\n",
            "\u001b[1m4/4\u001b[0m \u001b[32m━━━━━━━━━━━━━━━━━━━━\u001b[0m\u001b[37m\u001b[0m \u001b[1m1s\u001b[0m 263ms/step - accuracy: 0.0355 - loss: 4.2617\n",
            "Epoch 6/50\n",
            "\u001b[1m4/4\u001b[0m \u001b[32m━━━━━━━━━━━━━━━━━━━━\u001b[0m\u001b[37m\u001b[0m \u001b[1m1s\u001b[0m 269ms/step - accuracy: 0.0595 - loss: 4.2133\n",
            "Epoch 7/50\n",
            "\u001b[1m4/4\u001b[0m \u001b[32m━━━━━━━━━━━━━━━━━━━━\u001b[0m\u001b[37m\u001b[0m \u001b[1m1s\u001b[0m 256ms/step - accuracy: 0.0898 - loss: 4.1162\n",
            "Epoch 8/50\n",
            "\u001b[1m4/4\u001b[0m \u001b[32m━━━━━━━━━━━━━━━━━━━━\u001b[0m\u001b[37m\u001b[0m \u001b[1m1s\u001b[0m 265ms/step - accuracy: 0.0621 - loss: 4.0550\n",
            "Epoch 9/50\n",
            "\u001b[1m4/4\u001b[0m \u001b[32m━━━━━━━━━━━━━━━━━━━━\u001b[0m\u001b[37m\u001b[0m \u001b[1m1s\u001b[0m 298ms/step - accuracy: 0.0486 - loss: 4.0330\n",
            "Epoch 10/50\n",
            "\u001b[1m4/4\u001b[0m \u001b[32m━━━━━━━━━━━━━━━━━━━━\u001b[0m\u001b[37m\u001b[0m \u001b[1m2s\u001b[0m 485ms/step - accuracy: 0.0391 - loss: 3.9253\n",
            "Epoch 11/50\n",
            "\u001b[1m4/4\u001b[0m \u001b[32m━━━━━━━━━━━━━━━━━━━━\u001b[0m\u001b[37m\u001b[0m \u001b[1m1s\u001b[0m 270ms/step - accuracy: 0.0590 - loss: 3.8492\n",
            "Epoch 12/50\n",
            "\u001b[1m4/4\u001b[0m \u001b[32m━━━━━━━━━━━━━━━━━━━━\u001b[0m\u001b[37m\u001b[0m \u001b[1m1s\u001b[0m 280ms/step - accuracy: 0.0621 - loss: 3.8220\n",
            "Epoch 13/50\n",
            "\u001b[1m4/4\u001b[0m \u001b[32m━━━━━━━━━━━━━━━━━━━━\u001b[0m\u001b[37m\u001b[0m \u001b[1m1s\u001b[0m 269ms/step - accuracy: 0.0501 - loss: 3.7297\n",
            "Epoch 14/50\n",
            "\u001b[1m4/4\u001b[0m \u001b[32m━━━━━━━━━━━━━━━━━━━━\u001b[0m\u001b[37m\u001b[0m \u001b[1m1s\u001b[0m 258ms/step - accuracy: 0.0423 - loss: 3.6809\n",
            "Epoch 15/50\n",
            "\u001b[1m4/4\u001b[0m \u001b[32m━━━━━━━━━━━━━━━━━━━━\u001b[0m\u001b[37m\u001b[0m \u001b[1m1s\u001b[0m 262ms/step - accuracy: 0.0454 - loss: 3.6117\n",
            "Epoch 16/50\n",
            "\u001b[1m4/4\u001b[0m \u001b[32m━━━━━━━━━━━━━━━━━━━━\u001b[0m\u001b[37m\u001b[0m \u001b[1m1s\u001b[0m 267ms/step - accuracy: 0.0809 - loss: 3.5132\n",
            "Epoch 17/50\n",
            "\u001b[1m4/4\u001b[0m \u001b[32m━━━━━━━━━━━━━━━━━━━━\u001b[0m\u001b[37m\u001b[0m \u001b[1m1s\u001b[0m 269ms/step - accuracy: 0.0857 - loss: 3.3781\n",
            "Epoch 18/50\n",
            "\u001b[1m4/4\u001b[0m \u001b[32m━━━━━━━━━━━━━━━━━━━━\u001b[0m\u001b[37m\u001b[0m \u001b[1m1s\u001b[0m 265ms/step - accuracy: 0.0684 - loss: 3.3874\n",
            "Epoch 19/50\n",
            "\u001b[1m4/4\u001b[0m \u001b[32m━━━━━━━━━━━━━━━━━━━━\u001b[0m\u001b[37m\u001b[0m \u001b[1m1s\u001b[0m 348ms/step - accuracy: 0.1117 - loss: 3.2929\n",
            "Epoch 20/50\n",
            "\u001b[1m4/4\u001b[0m \u001b[32m━━━━━━━━━━━━━━━━━━━━\u001b[0m\u001b[37m\u001b[0m \u001b[1m2s\u001b[0m 272ms/step - accuracy: 0.0841 - loss: 3.2854\n",
            "Epoch 21/50\n",
            "\u001b[1m4/4\u001b[0m \u001b[32m━━━━━━━━━━━━━━━━━━━━\u001b[0m\u001b[37m\u001b[0m \u001b[1m1s\u001b[0m 269ms/step - accuracy: 0.0841 - loss: 3.1773\n",
            "Epoch 22/50\n",
            "\u001b[1m4/4\u001b[0m \u001b[32m━━━━━━━━━━━━━━━━━━━━\u001b[0m\u001b[37m\u001b[0m \u001b[1m1s\u001b[0m 271ms/step - accuracy: 0.1978 - loss: 3.0574\n",
            "Epoch 23/50\n",
            "\u001b[1m4/4\u001b[0m \u001b[32m━━━━━━━━━━━━━━━━━━━━\u001b[0m\u001b[37m\u001b[0m \u001b[1m1s\u001b[0m 267ms/step - accuracy: 0.1291 - loss: 3.0572\n",
            "Epoch 24/50\n",
            "\u001b[1m4/4\u001b[0m \u001b[32m━━━━━━━━━━━━━━━━━━━━\u001b[0m\u001b[37m\u001b[0m \u001b[1m1s\u001b[0m 263ms/step - accuracy: 0.1666 - loss: 2.9540\n",
            "Epoch 25/50\n",
            "\u001b[1m4/4\u001b[0m \u001b[32m━━━━━━━━━━━━━━━━━━━━\u001b[0m\u001b[37m\u001b[0m \u001b[1m1s\u001b[0m 265ms/step - accuracy: 0.1170 - loss: 2.9113\n",
            "Epoch 26/50\n",
            "\u001b[1m4/4\u001b[0m \u001b[32m━━━━━━━━━━━━━━━━━━━━\u001b[0m\u001b[37m\u001b[0m \u001b[1m1s\u001b[0m 265ms/step - accuracy: 0.1112 - loss: 2.8077\n",
            "Epoch 27/50\n",
            "\u001b[1m4/4\u001b[0m \u001b[32m━━━━━━━━━━━━━━━━━━━━\u001b[0m\u001b[37m\u001b[0m \u001b[1m1s\u001b[0m 263ms/step - accuracy: 0.1687 - loss: 2.8028\n",
            "Epoch 28/50\n",
            "\u001b[1m4/4\u001b[0m \u001b[32m━━━━━━━━━━━━━━━━━━━━\u001b[0m\u001b[37m\u001b[0m \u001b[1m1s\u001b[0m 261ms/step - accuracy: 0.2239 - loss: 2.6888\n",
            "Epoch 29/50\n",
            "\u001b[1m4/4\u001b[0m \u001b[32m━━━━━━━━━━━━━━━━━━━━\u001b[0m\u001b[37m\u001b[0m \u001b[1m2s\u001b[0m 491ms/step - accuracy: 0.1556 - loss: 2.7503\n",
            "Epoch 30/50\n",
            "\u001b[1m4/4\u001b[0m \u001b[32m━━━━━━━━━━━━━━━━━━━━\u001b[0m\u001b[37m\u001b[0m \u001b[1m1s\u001b[0m 260ms/step - accuracy: 0.1452 - loss: 2.6231\n",
            "Epoch 31/50\n",
            "\u001b[1m4/4\u001b[0m \u001b[32m━━━━━━━━━━━━━━━━━━━━\u001b[0m\u001b[37m\u001b[0m \u001b[1m1s\u001b[0m 263ms/step - accuracy: 0.1974 - loss: 2.6157\n",
            "Epoch 32/50\n",
            "\u001b[1m4/4\u001b[0m \u001b[32m━━━━━━━━━━━━━━━━━━━━\u001b[0m\u001b[37m\u001b[0m \u001b[1m1s\u001b[0m 269ms/step - accuracy: 0.1744 - loss: 2.6051\n",
            "Epoch 33/50\n",
            "\u001b[1m4/4\u001b[0m \u001b[32m━━━━━━━━━━━━━━━━━━━━\u001b[0m\u001b[37m\u001b[0m \u001b[1m1s\u001b[0m 269ms/step - accuracy: 0.2558 - loss: 2.4926\n",
            "Epoch 34/50\n",
            "\u001b[1m4/4\u001b[0m \u001b[32m━━━━━━━━━━━━━━━━━━━━\u001b[0m\u001b[37m\u001b[0m \u001b[1m1s\u001b[0m 266ms/step - accuracy: 0.2699 - loss: 2.4684\n",
            "Epoch 35/50\n",
            "\u001b[1m4/4\u001b[0m \u001b[32m━━━━━━━━━━━━━━━━━━━━\u001b[0m\u001b[37m\u001b[0m \u001b[1m1s\u001b[0m 261ms/step - accuracy: 0.1624 - loss: 2.4909\n",
            "Epoch 36/50\n",
            "\u001b[1m4/4\u001b[0m \u001b[32m━━━━━━━━━━━━━━━━━━━━\u001b[0m\u001b[37m\u001b[0m \u001b[1m1s\u001b[0m 270ms/step - accuracy: 0.1447 - loss: 2.4385\n",
            "Epoch 37/50\n",
            "\u001b[1m4/4\u001b[0m \u001b[32m━━━━━━━━━━━━━━━━━━━━\u001b[0m\u001b[37m\u001b[0m \u001b[1m1s\u001b[0m 259ms/step - accuracy: 0.1337 - loss: 2.4339\n",
            "Epoch 38/50\n",
            "\u001b[1m4/4\u001b[0m \u001b[32m━━━━━━━━━━━━━━━━━━━━\u001b[0m\u001b[37m\u001b[0m \u001b[1m2s\u001b[0m 372ms/step - accuracy: 0.2281 - loss: 2.4276\n",
            "Epoch 39/50\n",
            "\u001b[1m4/4\u001b[0m \u001b[32m━━━━━━━━━━━━━━━━━━━━\u001b[0m\u001b[37m\u001b[0m \u001b[1m2s\u001b[0m 264ms/step - accuracy: 0.1676 - loss: 2.4747\n",
            "Epoch 40/50\n",
            "\u001b[1m4/4\u001b[0m \u001b[32m━━━━━━━━━━━━━━━━━━━━\u001b[0m\u001b[37m\u001b[0m \u001b[1m1s\u001b[0m 266ms/step - accuracy: 0.1765 - loss: 2.3664\n",
            "Epoch 41/50\n",
            "\u001b[1m4/4\u001b[0m \u001b[32m━━━━━━━━━━━━━━━━━━━━\u001b[0m\u001b[37m\u001b[0m \u001b[1m1s\u001b[0m 261ms/step - accuracy: 0.2193 - loss: 2.4110\n",
            "Epoch 42/50\n",
            "\u001b[1m4/4\u001b[0m \u001b[32m━━━━━━━━━━━━━━━━━━━━\u001b[0m\u001b[37m\u001b[0m \u001b[1m1s\u001b[0m 266ms/step - accuracy: 0.2099 - loss: 2.4454\n",
            "Epoch 43/50\n",
            "\u001b[1m4/4\u001b[0m \u001b[32m━━━━━━━━━━━━━━━━━━━━\u001b[0m\u001b[37m\u001b[0m \u001b[1m1s\u001b[0m 269ms/step - accuracy: 0.1786 - loss: 2.3863\n",
            "Epoch 44/50\n",
            "\u001b[1m4/4\u001b[0m \u001b[32m━━━━━━━━━━━━━━━━━━━━\u001b[0m\u001b[37m\u001b[0m \u001b[1m1s\u001b[0m 265ms/step - accuracy: 0.1504 - loss: 2.3204\n",
            "Epoch 45/50\n",
            "\u001b[1m4/4\u001b[0m \u001b[32m━━━━━━━━━━━━━━━━━━━━\u001b[0m\u001b[37m\u001b[0m \u001b[1m1s\u001b[0m 269ms/step - accuracy: 0.3555 - loss: 2.2559\n",
            "Epoch 46/50\n",
            "\u001b[1m4/4\u001b[0m \u001b[32m━━━━━━━━━━━━━━━━━━━━\u001b[0m\u001b[37m\u001b[0m \u001b[1m1s\u001b[0m 268ms/step - accuracy: 0.2778 - loss: 2.3235\n",
            "Epoch 47/50\n",
            "\u001b[1m4/4\u001b[0m \u001b[32m━━━━━━━━━━━━━━━━━━━━\u001b[0m\u001b[37m\u001b[0m \u001b[1m2s\u001b[0m 407ms/step - accuracy: 0.2449 - loss: 2.2393\n",
            "Epoch 48/50\n",
            "\u001b[1m4/4\u001b[0m \u001b[32m━━━━━━━━━━━━━━━━━━━━\u001b[0m\u001b[37m\u001b[0m \u001b[1m2s\u001b[0m 270ms/step - accuracy: 0.2287 - loss: 2.1882\n",
            "Epoch 49/50\n",
            "\u001b[1m4/4\u001b[0m \u001b[32m━━━━━━━━━━━━━━━━━━━━\u001b[0m\u001b[37m\u001b[0m \u001b[1m1s\u001b[0m 268ms/step - accuracy: 0.2339 - loss: 2.2367\n",
            "Epoch 50/50\n",
            "\u001b[1m4/4\u001b[0m \u001b[32m━━━━━━━━━━━━━━━━━━━━\u001b[0m\u001b[37m\u001b[0m \u001b[1m1s\u001b[0m 272ms/step - accuracy: 0.2997 - loss: 2.1662\n",
            "Generated from 'Artificial':\n",
            "Artificial future changing changing changing changing every of\n",
            "\n",
            "Generated from 'Intelligence':\n",
            "Intelligence intelligence intelligence future intelligence future future every\n",
            "\n",
            "Generated from 'Neural networks':\n",
            "Neural networks future future every every future every every\n"
          ]
        }
      ]
    }
  ]
}